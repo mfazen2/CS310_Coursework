{
 "cells": [
  {
   "cell_type": "markdown",
   "metadata": {},
   "source": [
    "**In class Exercises: Lecture 15**\n",
    "\n",
    "**Name:** Maxwell Fazen\n",
    "\n",
    "**netid:** mfazen2"
   ]
  },
  {
   "cell_type": "markdown",
   "metadata": {},
   "source": [
    "**Exercise 1: Reading a table and converting coordinates/times**"
   ]
  },
  {
   "cell_type": "code",
   "execution_count": 31,
   "metadata": {},
   "outputs": [
    {
     "data": {
      "text/html": [
       "<div><i>Table length=1000</i>\n",
       "<table id=\"table1480972275344\" class=\"table-striped table-bordered table-condensed\">\n",
       "<thead><tr><th>col0</th><th>name</th><th>ra</th><th>dec</th><th>trigger_time</th><th>t90</th><th>t90_error</th><th>t90_start</th><th>fluence</th><th>fluence_error</th><th>flux_1024</th><th>flux_1024_error</th><th>flux_1024_time</th><th>flux_64</th><th>flux_64_error</th><th>flnc_band_ampl</th><th>flnc_band_ampl_pos_err</th><th>flnc_band_ampl_neg_err</th><th>flnc_band_epeak</th><th>flnc_band_epeak_pos_err</th><th>flnc_band_epeak_neg_err</th><th>flnc_band_alpha</th><th>flnc_band_alpha_pos_err</th><th>flnc_band_alpha_neg_err</th><th>flnc_band_beta</th><th>flnc_band_beta_pos_err</th><th>flnc_band_beta_neg_err</th><th>flnc_spectrum_start</th><th>flnc_spectrum_stop</th><th>pflx_best_fitting_model</th><th>pflx_best_model_redchisq</th><th>flnc_best_fitting_model</th><th>flnc_best_model_redchisq</th><th>_1</th></tr></thead>\n",
       "<thead><tr><th></th><th></th><th>deg</th><th>deg</th><th></th><th></th><th></th><th></th><th></th><th></th><th></th><th></th><th></th><th></th><th></th><th></th><th></th><th></th><th></th><th></th><th></th><th></th><th></th><th></th><th></th><th></th><th></th><th></th><th></th><th></th><th></th><th></th><th></th><th></th></tr></thead>\n",
       "<thead><tr><th>int32</th><th>str12</th><th>float64</th><th>float64</th><th>str23</th><th>float64</th><th>float64</th><th>float64</th><th>float64</th><th>float64</th><th>float64</th><th>float64</th><th>float64</th><th>float64</th><th>float64</th><th>float64</th><th>float64</th><th>float64</th><th>float64</th><th>float64</th><th>float64</th><th>float64</th><th>float64</th><th>float64</th><th>float64</th><th>float64</th><th>float64</th><th>float64</th><th>float64</th><th>str9</th><th>float64</th><th>str9</th><th>float64</th><th>int32</th></tr></thead>\n",
       "<tr><td>--</td><td>GRB120830212</td><td>22.524666666666665</td><td>-80.03999999999999</td><td>2012-08-30 05:04:52.744</td><td>16.064</td><td>3.649</td><td>0.448</td><td>7.5151e-06</td><td>2.3629e-07</td><td>8.6556</td><td>0.4512</td><td>1.344</td><td>14.842</td><td>2.022</td><td>0.01907516</td><td>0.002260342</td><td>0.002260342</td><td>206.6716</td><td>19.34743</td><td>19.34743</td><td>-0.7385905</td><td>0.09011394</td><td>0.09011394</td><td>-2.908419</td><td>7.539405</td><td>7.539405</td><td>-1.024</td><td>17.408</td><td>pflx_comp</td><td>1.075</td><td>flnc_comp</td><td>0.891</td><td>--</td></tr>\n",
       "<tr><td>--</td><td>GRB140323433</td><td>23.79727777777778</td><td>-79.905</td><td>2014-03-23 10:22:53.120</td><td>111.426</td><td>3.027</td><td>5.056</td><td>3.2424e-05</td><td>1.9208e-07</td><td>9.6741</td><td>0.2758</td><td>25.088</td><td>13.1489</td><td>1.2081</td><td>0.01208579</td><td>0.0005032783</td><td>0.0005032783</td><td>143.2164</td><td>21.11698</td><td>21.11698</td><td>-1.041237</td><td>0.02542675</td><td>0.02542675</td><td>-5.704211</td><td>23.21102</td><td>23.21102</td><td>-2.048</td><td>129.02</td><td>pflx_comp</td><td>0.955</td><td>flnc_comp</td><td>1.131</td><td>--</td></tr>\n",
       "<tr><td>--</td><td>GRB181007737</td><td>14.081333333333333</td><td>-79.69</td><td>2018-10-07 17:41:28.372</td><td>23.552</td><td>0.362</td><td>-0.256</td><td>3.0597e-06</td><td>3.0382e-08</td><td>2.8347</td><td>0.2137</td><td>-0.192</td><td>4.4329</td><td>0.941</td><td>--</td><td>--</td><td>--</td><td>--</td><td>--</td><td>--</td><td>--</td><td>--</td><td>--</td><td>--</td><td>--</td><td>--</td><td>--</td><td>--</td><td>--</td><td>--</td><td>--</td><td>--</td><td>--</td></tr>\n",
       "<tr><td>--</td><td>GRB100325246</td><td>13.942666666666668</td><td>-79.1</td><td>2010-03-25 05:54:43.949</td><td>8.192</td><td>1.086</td><td>-1.536</td><td>1.334e-06</td><td>1.7358e-08</td><td>4.9033</td><td>0.2367</td><td>-0.512</td><td>6.4777</td><td>0.9864</td><td>0.04793454</td><td>0.02380955</td><td>0.02380955</td><td>34.98019</td><td>5.283089</td><td>5.283089</td><td>-0.6888088</td><td>0.298304</td><td>0.298304</td><td>-2.467626</td><td>0.2204204</td><td>0.2204204</td><td>-2.048</td><td>7.168</td><td>pflx_comp</td><td>1.089</td><td>flnc_comp</td><td>1.003</td><td>--</td></tr>\n",
       "<tr><td>--</td><td>GRB100507577</td><td>0.19333333333333333</td><td>-79.01</td><td>2010-05-07 13:51:15.728</td><td>44.033</td><td>5.221</td><td>-1.024</td><td>9.9681e-06</td><td>1.1543e-07</td><td>3.2911</td><td>0.2039</td><td>15.168</td><td>4.7504</td><td>0.95</td><td>0.04973427</td><td>0.007101182</td><td>0.007101182</td><td>133.6812</td><td>7.531464</td><td>7.531464</td><td>0.4626522</td><td>0.1081798</td><td>0.1081798</td><td>-3.466067</td><td>1.403857</td><td>1.403857</td><td>-13.312</td><td>31.744</td><td>pflx_plaw</td><td>1.157</td><td>flnc_comp</td><td>0.998</td><td>--</td></tr>\n",
       "<tr><td>--</td><td>GRB171206122</td><td>0.632</td><td>-78.2</td><td>2017-12-06 02:55:44.937</td><td>15.36</td><td>3.083</td><td>-1.536</td><td>1.5221e-06</td><td>7.2998e-08</td><td>4.8222</td><td>0.4886</td><td>0.448</td><td>11.4606</td><td>3.5981</td><td>0.007276174</td><td>0.001115594</td><td>0.001115594</td><td>629.9004</td><td>209.734</td><td>209.734</td><td>-1.292658</td><td>0.1413209</td><td>0.1413209</td><td>-6.331875</td><td>379.0621</td><td>379.0621</td><td>-1.024</td><td>3.072</td><td>pflx_plaw</td><td>0.989</td><td>flnc_comp</td><td>1.001</td><td>--</td></tr>\n",
       "<tr><td>--</td><td>GRB140518709</td><td>16.269333333333332</td><td>-77.86</td><td>2014-05-18 17:00:43.425</td><td>0.704</td><td>0.466</td><td>-0.64</td><td>3.8053e-07</td><td>2.6848e-08</td><td>2.454</td><td>0.3526</td><td>-1.024</td><td>5.3743</td><td>1.1495</td><td>5633.034</td><td>221743.6</td><td>221743.6</td><td>182.9023</td><td>69.33234</td><td>69.33234</td><td>26.63325</td><td>73.72793</td><td>73.72793</td><td>-1.975177</td><td>0.3770473</td><td>0.3770473</td><td>-0.192</td><td>-0.128</td><td>pflx_plaw</td><td>1.026</td><td>flnc_plaw</td><td>1.025</td><td>--</td></tr>\n",
       "<tr><td>--</td><td>GRB130623488</td><td>1.381527777777778</td><td>-77.78388888888888</td><td>2013-06-23 11:42:47.046</td><td>22.272</td><td>0.923</td><td>-1.792</td><td>2.4645e-06</td><td>3.0042e-08</td><td>5.2588</td><td>0.2332</td><td>13.888</td><td>8.3458</td><td>1.2823</td><td>0.01909407</td><td>0.02033522</td><td>0.02033522</td><td>28.06861</td><td>4.528196</td><td>4.528196</td><td>-1.095303</td><td>0.3499717</td><td>0.3499717</td><td>-2.362571</td><td>0.1704245</td><td>0.1704245</td><td>-2.048</td><td>20.48</td><td>pflx_plaw</td><td>1.142</td><td>flnc_comp</td><td>1.061</td><td>--</td></tr>\n",
       "<tr><td>--</td><td>GRB110212550</td><td>20.755333333333333</td><td>-74.5</td><td>2011-02-12 13:12:33.523</td><td>0.064</td><td>0.036</td><td>-0.048</td><td>6.3493e-07</td><td>1.2257e-08</td><td>2.5032</td><td>0.1914</td><td>-0.576</td><td>17.3369</td><td>1.1526</td><td>0.07056738</td><td>0.007358178</td><td>0.007358178</td><td>476.1722</td><td>72.83395</td><td>72.83395</td><td>-0.4482385</td><td>0.1132326</td><td>0.1132326</td><td>-3.612476</td><td>4.107279</td><td>4.107279</td><td>-0.064</td><td>0.064</td><td>pflx_comp</td><td>0.985</td><td>flnc_comp</td><td>1.169</td><td>--</td></tr>\n",
       "<tr><td>...</td><td>...</td><td>...</td><td>...</td><td>...</td><td>...</td><td>...</td><td>...</td><td>...</td><td>...</td><td>...</td><td>...</td><td>...</td><td>...</td><td>...</td><td>...</td><td>...</td><td>...</td><td>...</td><td>...</td><td>...</td><td>...</td><td>...</td><td>...</td><td>...</td><td>...</td><td>...</td><td>...</td><td>...</td><td>...</td><td>...</td><td>...</td><td>...</td><td>...</td></tr>\n",
       "<tr><td>--</td><td>GRB150708339</td><td>20.570666666666668</td><td>-39.36</td><td>2015-07-08 08:08:46.077</td><td>95.234</td><td>6.476</td><td>-7.168</td><td>1.7087e-05</td><td>1.2411e-07</td><td>3.5676</td><td>0.2469</td><td>18.688</td><td>5.5781</td><td>1.1226</td><td>0.006415756</td><td>0.0006118924</td><td>0.0006118924</td><td>152.8279</td><td>18.16112</td><td>18.16112</td><td>-1.150322</td><td>0.05806136</td><td>0.05806136</td><td>-2.141446</td><td>0.1546907</td><td>0.1546907</td><td>-9.216</td><td>83.968</td><td>pflx_comp</td><td>0.968</td><td>flnc_comp</td><td>1.059</td><td>--</td></tr>\n",
       "<tr><td>--</td><td>GRB120121101</td><td>15.711333333333332</td><td>-39.34</td><td>2012-01-21 02:25:53.799</td><td>18.432</td><td>3.727</td><td>-3.328</td><td>1.9545e-06</td><td>3.0232e-08</td><td>2.6635</td><td>0.2093</td><td>3.264</td><td>4.2125</td><td>0.9149</td><td>0.01362908</td><td>0.003484668</td><td>0.003484668</td><td>90.40485</td><td>9.082047</td><td>9.082047</td><td>-0.7428194</td><td>0.1689899</td><td>0.1689899</td><td>-2.856352</td><td>4.493803</td><td>4.493803</td><td>-3.072</td><td>11.264</td><td>pflx_plaw</td><td>1.047</td><td>flnc_comp</td><td>0.979</td><td>--</td></tr>\n",
       "<tr><td>--</td><td>GRB170510217</td><td>10.660722222222223</td><td>-39.32805555555556</td><td>2017-05-10 05:12:25.735</td><td>127.746</td><td>0.923</td><td>2.816</td><td>4.3867e-05</td><td>7.6434e-08</td><td>16.958</td><td>0.4424</td><td>21.824</td><td>22.1853</td><td>1.8051</td><td>0.01410634</td><td>0.000430258</td><td>0.000430258</td><td>365.9475</td><td>24.40994</td><td>24.40994</td><td>-1.029861</td><td>0.02304006</td><td>0.02304006</td><td>-2.277343</td><td>0.158957</td><td>0.158957</td><td>-15.36</td><td>139.26</td><td>pflx_comp</td><td>1.208</td><td>flnc_band</td><td>1.205</td><td>--</td></tr>\n",
       "<tr><td>--</td><td>GRB170802638</td><td>3.486666666666667</td><td>-39.21</td><td>2017-08-02 15:18:24.801</td><td>2.24</td><td>0.143</td><td>-0.128</td><td>2.4481e-06</td><td>1.908e-08</td><td>8.2026</td><td>0.2674</td><td>1.408</td><td>37.895</td><td>1.5982</td><td>0.0100369</td><td>0.001201601</td><td>0.001201601</td><td>540.9509</td><td>161.9837</td><td>161.9837</td><td>-0.7256588</td><td>0.1218049</td><td>0.1218049</td><td>-2.070378</td><td>0.5131812</td><td>0.5131812</td><td>-1.024</td><td>3.072</td><td>pflx_comp</td><td>1.089</td><td>flnc_comp</td><td>0.993</td><td>--</td></tr>\n",
       "<tr><td>--</td><td>GRB150523690</td><td>13.484666666666666</td><td>-39.2</td><td>2015-05-23 16:33:56.768</td><td>114.69</td><td>26.576</td><td>-15.872</td><td>5.729e-06</td><td>1.2832e-07</td><td>2.9827</td><td>0.3769</td><td>49.537</td><td>8.5543</td><td>2.4851</td><td>0.004930508</td><td>0.00128453</td><td>0.00128453</td><td>226.99</td><td>85.00865</td><td>85.00865</td><td>-1.301927</td><td>0.1709</td><td>0.1709</td><td>-10.23574</td><td>109581.9</td><td>109581.9</td><td>-5.12</td><td>50.176</td><td>pflx_plaw</td><td>0.907</td><td>flnc_plaw</td><td>1.121</td><td>--</td></tr>\n",
       "<tr><td>--</td><td>GRB140619490</td><td>20.330666666666666</td><td>-39.18</td><td>2014-06-19 11:46:01.532</td><td>0.448</td><td>0.516</td><td>-0.192</td><td>2.1028e-07</td><td>4.3831e-08</td><td>2.0017</td><td>0.4278</td><td>-0.32</td><td>16.0105</td><td>2.6051</td><td>0.07143207</td><td>0.02516497</td><td>0.02516497</td><td>243.9339</td><td>52.11312</td><td>52.11312</td><td>-0.5019913</td><td>0.349671</td><td>0.349671</td><td>-9.052113</td><td>3834.045</td><td>3834.045</td><td>-0.064</td><td>0.064</td><td>pflx_plaw</td><td>0.999</td><td>flnc_comp</td><td>1.08</td><td>--</td></tr>\n",
       "<tr><td>--</td><td>GRB170607946</td><td>16.444055555555554</td><td>-39.15888888888889</td><td>2017-06-07 22:41:58.947</td><td>18.176</td><td>0.362</td><td>2.816</td><td>4.9527e-05</td><td>1.1727e-07</td><td>13.2836</td><td>0.4546</td><td>20.352</td><td>17.8796</td><td>1.7529</td><td>0.02359693</td><td>0.0004444607</td><td>0.0004444607</td><td>571.4997</td><td>21.48706</td><td>21.48706</td><td>-0.7522203</td><td>0.02029115</td><td>0.02029115</td><td>-2.710294</td><td>0.2337897</td><td>0.2337897</td><td>-1.024</td><td>104.45</td><td>pflx_comp</td><td>0.988</td><td>flnc_comp</td><td>1.297</td><td>--</td></tr>\n",
       "<tr><td>--</td><td>GRB120926426</td><td>3.9813333333333336</td><td>-37.2</td><td>2012-09-26 10:13:16.043</td><td>60.161</td><td>3.482</td><td>-2.304</td><td>4.3826e-06</td><td>9.1741e-08</td><td>3.9374</td><td>0.2969</td><td>0.192</td><td>6.9881</td><td>1.4453</td><td>0.00744562</td><td>0.001367155</td><td>0.001367155</td><td>239.4517</td><td>62.4855</td><td>62.4855</td><td>-0.9930754</td><td>0.1155004</td><td>0.1155004</td><td>-2.355139</td><td>0.703982</td><td>0.703982</td><td>-3.072</td><td>84.992</td><td>pflx_comp</td><td>1.064</td><td>flnc_comp</td><td>0.886</td><td>--</td></tr>\n",
       "<tr><td>--</td><td>GRB130627372</td><td>12.296333333333333</td><td>-37.086111111111116</td><td>2013-06-27 08:55:05.934</td><td>35.84</td><td>1.717</td><td>-17.92</td><td>1.5766e-06</td><td>2.4121e-08</td><td>3.0798</td><td>0.2671</td><td>-0.768</td><td>5.1567</td><td>1.3773</td><td>0.007663606</td><td>0.002470681</td><td>0.002470681</td><td>100.6275</td><td>22.5331</td><td>22.5331</td><td>-0.9852166</td><td>0.2328737</td><td>0.2328737</td><td>-13.29716</td><td>1443153.0</td><td>1443153.0</td><td>-6.144</td><td>8.192</td><td>pflx_plaw</td><td>1.06</td><td>flnc_comp</td><td>0.894</td><td>--</td></tr>\n",
       "<tr><td>--</td><td>GRB101102840</td><td>18.978666666666665</td><td>-37.03</td><td>2010-11-02 20:10:07.430</td><td>43.52</td><td>6.676</td><td>-1.792</td><td>1.7217e-06</td><td>3.2824e-08</td><td>1.6418</td><td>0.2038</td><td>4.224</td><td>4.6827</td><td>1.0494</td><td>0.006744427</td><td>0.003248014</td><td>0.003248014</td><td>153.6728</td><td>78.30256</td><td>78.30256</td><td>-0.5222652</td><td>0.3990126</td><td>0.3990126</td><td>-1.555496</td><td>0.1046667</td><td>0.1046667</td><td>-2.048</td><td>18.432</td><td>pflx_plaw</td><td>1.075</td><td>flnc_comp</td><td>0.987</td><td>--</td></tr>\n",
       "</table></div>"
      ],
      "text/plain": [
       "<Table length=1000>\n",
       " col0     name              ra         ... flnc_best_model_redchisq   _1 \n",
       "                           deg         ...                               \n",
       "int32    str12           float64       ...         float64          int32\n",
       "----- ------------ ------------------- ... ------------------------ -----\n",
       "   -- GRB120830212  22.524666666666665 ...                    0.891    --\n",
       "   -- GRB140323433   23.79727777777778 ...                    1.131    --\n",
       "   -- GRB181007737  14.081333333333333 ...                       --    --\n",
       "   -- GRB100325246  13.942666666666668 ...                    1.003    --\n",
       "   -- GRB100507577 0.19333333333333333 ...                    0.998    --\n",
       "   -- GRB171206122               0.632 ...                    1.001    --\n",
       "   -- GRB140518709  16.269333333333332 ...                    1.025    --\n",
       "   -- GRB130623488   1.381527777777778 ...                    1.061    --\n",
       "   -- GRB110212550  20.755333333333333 ...                    1.169    --\n",
       "  ...          ...                 ... ...                      ...   ...\n",
       "   -- GRB150708339  20.570666666666668 ...                    1.059    --\n",
       "   -- GRB120121101  15.711333333333332 ...                    0.979    --\n",
       "   -- GRB170510217  10.660722222222223 ...                    1.205    --\n",
       "   -- GRB170802638   3.486666666666667 ...                    0.993    --\n",
       "   -- GRB150523690  13.484666666666666 ...                    1.121    --\n",
       "   -- GRB140619490  20.330666666666666 ...                     1.08    --\n",
       "   -- GRB170607946  16.444055555555554 ...                    1.297    --\n",
       "   -- GRB120926426  3.9813333333333336 ...                    0.886    --\n",
       "   -- GRB130627372  12.296333333333333 ...                    0.894    --\n",
       "   -- GRB101102840  18.978666666666665 ...                    0.987    --"
      ]
     },
     "execution_count": 31,
     "metadata": {},
     "output_type": "execute_result"
    }
   ],
   "source": [
    "import astropy\n",
    "\n",
    "from astropy.io import ascii\n",
    "from astropy import units as u\n",
    "from astropy import coordinates as coordinates\n",
    "from astropy.table import MaskedColumn\n",
    "T = astropy.io.ascii.read(\"fermi_lat_grbs.dat\",header_start=2,data_start=3,delimiter=\"|\")\n",
    "T.colnames\n",
    "T[\"ra\"] = coordinates.Angle(T[\"ra\"],unit = u.deg)\n",
    "T[\"dec\"] = coordinates.Angle(T[\"dec\"],unit = u.deg)\n",
    "T"
   ]
  },
  {
   "cell_type": "code",
   "execution_count": 8,
   "metadata": {},
   "outputs": [
    {
     "name": "stdout",
     "output_type": "stream",
     "text": [
      "500.8655\n",
      "145.61950000000002\n"
     ]
    }
   ],
   "source": [
    "import numpy as np\n",
    "mask = (T[\"t90\"] < 2) & ((T[\"t90_error\"]/T[\"t90\"]) < .5)\n",
    "mask2 = T[\"t90\"] > 2\n",
    "tab_mask2 = T[mask2]\n",
    "tab_mask = T[mask]\n",
    "tab1med = np.ma.median(tab_mask[\"flnc_band_epeak\"])\n",
    "tab2med = np.ma.median(tab_mask2[\"flnc_band_epeak\"])\n",
    "print(tab1med)\n",
    "print(tab2med)\n"
   ]
  },
  {
   "cell_type": "markdown",
   "metadata": {},
   "source": [
    "**Exercise 2: Working with and modifying a table**"
   ]
  },
  {
   "cell_type": "code",
   "execution_count": 36,
   "metadata": {},
   "outputs": [],
   "source": [
    "\n",
    "from astropy.table import MaskedColumn\n",
    "mc = astropy.io.ascii.read(\"mcxc.dat\",readme = \"mcxc.readme\",delimiter='')\n",
    "L500 = np.log10(np.array(mc[\"L500\"]))\n",
    "M500 = np.log10(np.array(mc[\"M500\"]))\n",
    "z = mc[\"z\"]\n",
    "zmask = z < 0.1\n",
    "z = z[zmask]\n",
    "r = np.subtract(L500,M500)\n",
    "mcol = MaskedColumn(r,name=\"r\",description=\"r=logL-1.64logM\",mask=zmask)\n",
    "mc.add_column(mcol)\n",
    "mc.write(\"mcxc_new.csv\",delimiter=\",\")"
   ]
  },
  {
   "cell_type": "code",
   "execution_count": null,
   "metadata": {},
   "outputs": [],
   "source": []
  }
 ],
 "metadata": {
  "kernelspec": {
   "display_name": "Python 3",
   "language": "python",
   "name": "python3"
  },
  "language_info": {
   "codemirror_mode": {
    "name": "ipython",
    "version": 3
   },
   "file_extension": ".py",
   "mimetype": "text/x-python",
   "name": "python",
   "nbconvert_exporter": "python",
   "pygments_lexer": "ipython3",
   "version": "3.11.8"
  }
 },
 "nbformat": 4,
 "nbformat_minor": 2
}
