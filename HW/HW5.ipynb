{
 "cells": [
  {
   "cell_type": "markdown",
   "metadata": {},
   "source": [
    "HW 4\n",
    "mfazen2"
   ]
  },
  {
   "cell_type": "markdown",
   "metadata": {},
   "source": [
    "Exercise 1:"
   ]
  },
  {
   "cell_type": "code",
   "execution_count": 3,
   "metadata": {},
   "outputs": [],
   "source": [
    "def numberconverter(n):\n",
    "    L = n.split()\n",
    "    o = 0\n",
    "    if len(L) == 0: return None\n",
    "    arg1low = {\"zero\":0,\"one\":1,\"two\":2,\"three\":3,\"four\":4,\"five\":5,\"six\":6,\"seven\":7,\"eight\":8,\"nine\":9,\"ten\":10,\"eleven\":11,\"twelve\":12,\"thirteen\":13,\n",
    "            \"fourteen\":14,\"fifteen\":15,\"sixteen\":16,\"seventeen\":17,\"eighteen\":18,\"nineteen\":19}\n",
    "    arg1high = {\"twenty\":20,\"thirty\":30,\"forty\":40,\"fifty\":50,\"sixty\":60,\"seventy\":70,\"eighty\":80,\"ninety\":90}\n",
    "    arg2 = {\"hundred\":100}\n",
    "    if len(L) == 1:\n",
    "        if (L[0] in arg1low):\n",
    "            o = arg1low[L[0]]\n",
    "            return o\n",
    "        if (L[0] in arg1high):\n",
    "            o = arg1high[L[0]]\n",
    "            return o\n",
    "        else:\n",
    "            return None\n",
    "    elif len(L) == 2:\n",
    "        if (L[0] in arg1low):\n",
    "            o = arg1low[L[0]]\n",
    "            if(L[1] in arg2):\n",
    "                o = o* arg2[L[1]]\n",
    "                return o\n",
    "            else:\n",
    "                return None\n",
    "        elif (L[0] in arg1high):\n",
    "            o = arg1high[L[0]]\n",
    "            if (L[1] in arg1low):\n",
    "                o = o + arg1low[L[1]]\n",
    "                return o\n",
    "            else: \n",
    "                return None\n",
    "    elif len(L) == 3:\n",
    "        if (L[0] in arg1low):\n",
    "            first = arg1low[L[0]]\n",
    "            o = o + first\n",
    "            if(L[1] in arg2):\n",
    "                o = o*arg2[L[1]]\n",
    "                if(L[2] in arg1low):\n",
    "                    o = o + arg1low[L[2]]\n",
    "                elif (L[2] in arg1high):\n",
    "                    o = o + arg1high[L[2]]\n",
    "                return o\n",
    "    elif len(L) == 4:\n",
    "        if (L[0] in arg1low):\n",
    "            o = arg1low[L[0]]\n",
    "            if(L[1] in arg2):\n",
    "                o = o*arg2[L[1]]\n",
    "                if (L[2] in arg1high):\n",
    "                    o = o + arg1high[L[2]]\n",
    "                    if (L[3] in arg1low):\n",
    "                        o = o + arg1low[L[3]]\n",
    "                    return o\n"
   ]
  },
  {
   "cell_type": "code",
   "execution_count": 6,
   "metadata": {},
   "outputs": [
    {
     "name": "stdout",
     "output_type": "stream",
     "text": [
      "9\n",
      "76\n",
      "130\n",
      "413\n",
      "867\n",
      "None\n",
      "None\n",
      "None\n",
      "None\n",
      "None\n"
     ]
    }
   ],
   "source": [
    "print(numberconverter(\"nine\"))\n",
    "print(numberconverter(\"seventy six\"))\n",
    "print(numberconverter(\"one hundred thirty\"))\n",
    "print(numberconverter(\"four hundred thirteen\"))\n",
    "print(numberconverter(\"eight hundred sixty seven\"))\n",
    "print(numberconverter(\"our hundred five hundred thirty six\"))\n",
    "print(numberconverter(\"two hundred eight thousand four\"))\n",
    "print(numberconverter(\"twelve two hundred one\"))\n",
    "print(numberconverter(\"five hundred seven twenty\"))\n",
    "print(numberconverter(\"eleventy nine\"))\n"
   ]
  },
  {
   "cell_type": "markdown",
   "metadata": {},
   "source": [
    "Exercise 2:"
   ]
  },
  {
   "cell_type": "code",
   "execution_count": 1,
   "metadata": {},
   "outputs": [
    {
     "name": "stdout",
     "output_type": "stream",
     "text": [
      "{'electoralVotes': 538, 'days_in_year': 365.25, '__wombats7': 32, 'RegulationFidgetSpinner': -72.8, 'marigolds_around_alumni_fountain': 423129, 'BaselineKaijuDiet2020': 8341000000.0, 'digits_in_eleven_': 2}\n",
      "True\n",
      "{'electoralVotes': 538, 'days_in_year': 365.25, '__wombats7': 32, 'RegulationFidgetSpinner': -72.8, 'marigolds_around_alumni_fountain': 423129, 'BaselineKaijuDiet2020': 8341000000.0, 'digits_in_eleven_': 2, 'bears_with_6arms': 13, 'chessRookHeight': 45.327, '__neighborHondaYear': 2009, 'forty': 46.0}\n",
      "None\n",
      "None\n",
      "None\n"
     ]
    }
   ],
   "source": [
    "from fileOperations import file_read\n",
    "from fileOperations import file_write\n",
    "print(file_read(\"vardict.txt\"))\n",
    "var_dict = file_read(\"vardict.txt\")\n",
    "var_dict[\"bears_with_6arms\"] = 13\n",
    "var_dict[\"chessRookHeight\"] = 45.327\n",
    "var_dict[\"__neighborHondaYear\"] = 2009\n",
    "var_dict[\"forty\"] = 46.0\n",
    "print(file_write(\"vardict2.txt\",var_dict,True))\n",
    "print(file_read(\"vardict2.txt\"))\n",
    "print(file_read(\"corruptedvardict.txt\")) #extra =\n",
    "print(file_read(\"corruptedvardict2.txt\")) #extraneous disallowed character\n",
    "print(file_read(\"corruptedvardict3.txt\")) #empty variable\n",
    "\n"
   ]
  },
  {
   "cell_type": "code",
   "execution_count": 2,
   "metadata": {},
   "outputs": [],
   "source": [
    "import os\n",
    "import string\n",
    "def file_read(file_name):\n",
    "    L=[]\n",
    "    D = {}\n",
    "    try:\n",
    "        chars = '!\\\"#$%&\\'()*+,/:;<>?@[\\]^`{|}~'\n",
    "        f = open(file_name)\n",
    "        while True:\n",
    "            temp = str(f.readline().replace(\" \",\"\"))\n",
    "            temp = temp.replace(\"\\n\",\"\")\n",
    "            temp = temp.replace(\"\\t\",\"\")\n",
    "            if len(temp) == 0: break\n",
    "            if temp[0] == \"=\": return None\n",
    "            if \"=\" not in temp: \n",
    "                f.close() \n",
    "                return None\n",
    "            if \"==\" in temp: \n",
    "                f.close()\n",
    "                return None\n",
    "            for ch in temp:\n",
    "                if ch in chars:\n",
    "                    return None\n",
    "            L = temp.split(\"=\")\n",
    "            if len(L) == 0: break\n",
    "            L[1] = (L[1].replace(\" \",\"\"))\n",
    "            L[0] = (L[0].replace(\" \",\"\"))\n",
    "            if \".\" in L[1]: L[1] = float(L[1])\n",
    "            else: L[1] = int(L[1])\n",
    "            D[L[0]] = L[1]\n",
    "        return D\n",
    "    except IOError or SyntaxError:\n",
    "        f.close()\n",
    "        return None\n",
    "def file_write(file_name,var_dict,overwrite=False):\n",
    "    L = str(string.punctuation)\n",
    "    L = L.replace(\"_\",\"\")\n",
    "    L2 = string.ascii_letters + \"_\" + string.digits\n",
    "    try:\n",
    "        if (os.path.isfile(file_name) and overwrite == False): return None \n",
    "        f = open(file_name,'w')\n",
    "        for pair in var_dict:\n",
    "            if pair[0] not in L2: \n",
    "                os.remove(file_name)\n",
    "                return None\n",
    "            for ch in pair: \n",
    "                if ch in L: \n",
    "                    os.remove(file_name)\n",
    "                    return None\n",
    "            pair = pair.replace(\"\\t\",\"\")\n",
    "            pair = pair.replace(\" \",\"\")\n",
    "            f.write(pair+\" = \"+str(var_dict.get(pair))+\"\\n\")\n",
    "    except IOError or SyntaxError:\n",
    "        os.remove(file_name)\n",
    "        return None\n",
    "    return True"
   ]
  }
 ],
 "metadata": {
  "kernelspec": {
   "display_name": "Python 3",
   "language": "python",
   "name": "python3"
  },
  "language_info": {
   "codemirror_mode": {
    "name": "ipython",
    "version": 3
   },
   "file_extension": ".py",
   "mimetype": "text/x-python",
   "name": "python",
   "nbconvert_exporter": "python",
   "pygments_lexer": "ipython3",
   "version": "3.11.8"
  }
 },
 "nbformat": 4,
 "nbformat_minor": 2
}
