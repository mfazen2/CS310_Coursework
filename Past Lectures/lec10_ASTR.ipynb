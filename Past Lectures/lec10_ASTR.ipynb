{
  "cells": [
    {
      "cell_type": "markdown",
      "metadata": {
        "id": "07IMU6Q-X_Sp"
      },
      "source": [
        "**Exercise 1: Robust type conversion**  \n",
        "Write a Python function convert_type(s) that takes a string s and\n",
        "converts it to a float if it is a number with a decimal point, converts it to\n",
        "an int if it is an integer, or leaves it as a string otherwise, and returns\n",
        "the result. If anything fails, return None. You will want to use\n",
        "exceptions to prevent the code from aborting. Test your function with\n",
        "the inputs  \n",
        "\n",
        "```\n",
        "'-3.4e12'  \n",
        "'89.1'  \n",
        "'.9623'  \n",
        "'42'  \n",
        "'hello there'  \n",
        "6  \n",
        "['6', 'hello']\n",
        "```\n",
        "$[6pts]$\n"
      ]
    },
    {
      "cell_type": "code",
      "execution_count": 4,
      "metadata": {
        "id": "9uNEMqfMX-Tr"
      },
      "outputs": [
        {
          "name": "stdout",
          "output_type": "stream",
          "text": [
            "-3400000000000.0\n",
            "89.1\n",
            "0.9623\n",
            "42\n",
            "hello there\n",
            "None\n",
            "None\n"
          ]
        }
      ],
      "source": [
        "#Code Here\n",
        "def convert_type(s):\n",
        "    try:\n",
        "        if \".\" in s:\n",
        "            \n",
        "            return float(s)\n",
        "        else:\n",
        "            return int(s)\n",
        "    except ValueError:\n",
        "        return str(s)\n",
        "    except:\n",
        "        return None\n",
        "print (convert_type(\"-3.4e12\"))\n",
        "print (convert_type(\"89.1\"))\n",
        "print (convert_type(\".9623\"))\n",
        "print (convert_type(\"42\"))\n",
        "print (convert_type(\"hello there\"))\n",
        "print (convert_type(6))\n",
        "print (convert_type(['6','hello']))"
      ]
    },
    {
      "cell_type": "markdown",
      "metadata": {
        "id": "JdVkqHm6Yfjv"
      },
      "source": [
        "**Exercise 2: validating user input**  \n",
        "Write Python code that repeatedly prompts the user for two\n",
        "numbers and prints their ratio, halting when the user types\n",
        "anything other than two numbers. If the second number is zero,\n",
        "politely remind the user that you cannot divide by zero, but\n",
        "continue to accept input. Use exception handling.\n",
        "$[7 pts]$"
      ]
    },
    {
      "cell_type": "code",
      "execution_count": 9,
      "metadata": {
        "id": "xDoe2MkLYnWt"
      },
      "outputs": [
        {
          "name": "stdout",
          "output_type": "stream",
          "text": [
            "0.6666666666666666\n",
            "1.0\n",
            "You can't divide by zero!\n",
            "0.6666666666666666\n",
            "Hey! Enter two **numbers**.\n"
          ]
        }
      ],
      "source": [
        "#Code Here\n",
        "while True:\n",
        "    try:\n",
        "        a = int(input(\"Enter a number:\"))\n",
        "        b = int(input(\"Enter a number:\"))\n",
        "        print(a/b)\n",
        "    except ZeroDivisionError:\n",
        "        print(\"You can't divide by zero!\")\n",
        "        continue\n",
        "    except ValueError:\n",
        "        print(\"Hey! Enter two **numbers**.\")\n",
        "        break"
      ]
    },
    {
      "cell_type": "markdown",
      "metadata": {
        "id": "EBdOFPkPYo2w"
      },
      "source": [
        "**Exercise 3: Godzilla**  \n",
        "Write Python code that repeatedly requests input to determine Godzilla's next\n",
        "move. It should display the menu\n",
        "\n",
        "Enter Godzilla's next move:  \n",
        "1 Crush Tokyo City Hall  \n",
        "2 Crush Diet Building  \n",
        "3 Crush Tokyo Tower  \n",
        "4 Fight Mothra  \n",
        "5 Return to the sea    \n",
        "\n",
        "If the user enters numbers 1-4, print the corresponding action (“Godzilla crushes\n",
        "Tokyo Tower. Ahhh!”). If the user enters 5, exit. If the user enters anything else,\n",
        "print a chastising message. (“That’s not allowed.”) Use exception handling, and\n",
        "write your code in a way that makes it easy to add new menu items. Whether or\n",
        "not the user gave valid input, print a blank line before printing the menu again. $[7 pts]$"
      ]
    },
    {
      "cell_type": "code",
      "execution_count": 16,
      "metadata": {
        "id": "lafyVtc2alOA"
      },
      "outputs": [
        {
          "name": "stdout",
          "output_type": "stream",
          "text": [
            "Godzilla crushes Tokyo City Hall. Ahhh!\n",
            "Godzilla crushes Diet Building. Ahhh!\n",
            "Godzilla crushes Tokyo Tower.Ahh!\n",
            "Godzilla fights Mothra. Ahh!\n",
            "Thats not allowed.\n",
            "\n",
            "Godzilla crushes Tokyo City Hall. Ahhh!\n",
            "Godzilla crushes Diet Building. Ahhh!\n",
            "Godzilla returns to the sea! Yaay!\n"
          ]
        }
      ],
      "source": [
        "#Code Here\n",
        "while True:\n",
        "    try:\n",
        "        move = int(input(\"Enter Godzilla's next move:\\n1 Crush Tokyo City Hall\\n2 Crush Diet Building\\n3 Crush Tokyo Tower\\n4 Fight Mothra\\n5 Return to the sea\"))\n",
        "        match move:\n",
        "            case 1:\n",
        "                print(\"Godzilla crushes Tokyo City Hall. Ahhh!\")\n",
        "            case 2:\n",
        "                print(\"Godzilla crushes Diet Building. Ahhh!\")\n",
        "            case 3:\n",
        "                print(\"Godzilla crushes Tokyo Tower.Ahh!\")\n",
        "            case 4:\n",
        "                print(\"Godzilla fights Mothra. Ahh!\")\n",
        "            case 5:\n",
        "                print(\"Godzilla returns to the sea! Yaay!\")\n",
        "                break\n",
        "    except ValueError:\n",
        "        print(\"Thats not allowed.\\n\")\n"
      ]
    },
    {
      "cell_type": "code",
      "execution_count": null,
      "metadata": {
        "id": "M4-odYLYYzIE"
      },
      "outputs": [],
      "source": [
        "%%capture\n",
        "# Here we use a script to generate pdf and save it to google drive.\n",
        "\n",
        "# After executing this cell, you will be asked to link to your GoogleDrive account.\n",
        "# Then, the pdf will be generated and saved to your GoogleDrive account and you need to go there to download;\n",
        "\n",
        "from google.colab import drive\n",
        "drive.mount('/content/drive')\n",
        "# install tex; first run may take several minutes\n",
        "! apt-get install texlive-xetex\n",
        "# file path and save location below are default; please change if they do not match yours\n",
        "! jupyter nbconvert --output-dir='/content/drive/MyDrive/' '/content/drive/MyDrive/Colab Notebooks/lec10_ASTR.ipynb' --to pdf"
      ]
    }
  ],
  "metadata": {
    "colab": {
      "provenance": []
    },
    "kernelspec": {
      "display_name": "Python 3",
      "name": "python3"
    },
    "language_info": {
      "codemirror_mode": {
        "name": "ipython",
        "version": 3
      },
      "file_extension": ".py",
      "mimetype": "text/x-python",
      "name": "python",
      "nbconvert_exporter": "python",
      "pygments_lexer": "ipython3",
      "version": "3.11.8"
    }
  },
  "nbformat": 4,
  "nbformat_minor": 0
}
