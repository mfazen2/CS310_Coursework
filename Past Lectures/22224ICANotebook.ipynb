{
 "cells": [
  {
   "cell_type": "markdown",
   "metadata": {},
   "source": [
    "Exercise 1 & 2"
   ]
  },
  {
   "cell_type": "code",
   "execution_count": 1,
   "metadata": {},
   "outputs": [
    {
     "name": "stdout",
     "output_type": "stream",
     "text": [
      "Star: Betelguese\n",
      "RA: 5h 55m 10.3s\n",
      "Dec: 7d 24' 25.4\"\n",
      "Mag: 220.0\n",
      "Dist: -5.85 pc\n",
      "((13, 9, 16), (1, 55, 22))\n"
     ]
    }
   ],
   "source": [
    "import math\n",
    "from riseset import riseandset \n",
    "class star:\n",
    "    def __init__(self,name,ra,dec,dist,absmag):\n",
    "        self.name = str(name)\n",
    "        self.ra = tuple(ra)\n",
    "        self.dec = tuple(dec)\n",
    "        self.dist = float(dist)\n",
    "        self.absmag=float(absmag)\n",
    "    def appmag(self):\n",
    "        return 5*(math.log(self.dist-1))+self.absmag\n",
    "    def __str__(self)->str:\n",
    "        return f\"Star: {self.name}\\nRA: {self.ra[0]}h {self.ra[1]}m {self.ra[2]}s\\nDec: {self.dec[0]}d {self.dec[1]}\\' {self.dec[2]}\\\"\\nMag: {self.absmag}\\nDist: {self.dist} pc\"\n",
    "    def riseandset(self,lat,long,year,month,date):\n",
    "        return riseandset(self.ra,self.dec,lat,long,year,month,date)\n",
    "    \n",
    "\n",
    "temp = star(\"Betelguese\",(5 ,55 ,10.3),(7, 24, 25.4),-5.85,220.0)\n",
    "print(temp)\n",
    "print(temp.riseandset(40.112,-88.221,2024,2,24))\n"
   ]
  },
  {
   "cell_type": "markdown",
   "metadata": {},
   "source": [
    "Exercise 3"
   ]
  },
  {
   "cell_type": "code",
   "execution_count": null,
   "metadata": {},
   "outputs": [],
   "source": [
    "import math\n",
    "class Particle:\n",
    "    def __init__(self,m,x,y,z,vx,vy,vz,ax,ay,az):\n",
    "        self.m=m\n",
    "        self.x=x\n",
    "        self.y=y\n",
    "        self.z=z\n",
    "        self.vx=vx\n",
    "        self.vy=vy\n",
    "        self.vz=vz\n",
    "        self.ax=ax\n",
    "        self.ay=ay\n",
    "        self.az=az\n",
    "    def move(self,dt):\n",
    "        self.x = self.x + self.vx*dt + 0.5*self.ax*dt**2\n",
    "        self.y = self.y + self.vy*dt + 0.5*self.ay*dt**2\n",
    "        self.z = self.z + self.vz*dt + 0.5*self.az*dt**2\n",
    "    def compute_accels(self,particles):\n",
    "        sumax=0\n",
    "        sumay=0\n",
    "        sumaz=0\n",
    "        for item in particles:\n",
    "            deltax = item.x-self.x\n",
    "            deltay = item.y-self.y\n",
    "            deltaz = item.z-self.z\n",
    "            rad  = math.sqrt((deltax**2)+(deltay**2)+(deltaz**2))\n",
    "            sumax = sumax + (((6.67*10**-11)*item.m)/rad)*(math.cos(math.abs(math.atan(deltay/deltax))))\\\n",
    "                *(math.cos(math.abs(math.atan(deltaz/deltax))))*(deltax/math.abs(deltax))\n",
    "            sumay = sumay + (((6.67*10**-11)*item.m)/rad)*(math.sin(math.abs(math.atan(deltay/deltax))))\\\n",
    "                *(math.cos(math.abs(math.atan(deltaz/deltay))))*(deltay/math.abs(deltay))\n",
    "            sumaz = sumaz + (((6.67*10**-11)*item.m)/rad)*(math.sin(math.abs(math.atan(deltaz/deltax))))\\\n",
    "                *(math.sin(math.abs(math.atan(deltaz/deltay))))*(deltaz/math.abs(deltaz))\n",
    "        return(sumax,sumay,sumaz)\n",
    "class StarParticle(star):\n",
    "    def __init__(self,m,x,y,z,vx,vy,vz,ax,ay,az,t):\n",
    "        self.t =t\n",
    "        star.__init__(self,m,x,y,z,vx,vy,vz,ax,ay,az)\n",
    "    def age_stars(self,dt):\n",
    "        self.t=self.t+dt\n",
    "\n"
   ]
  }
 ],
 "metadata": {
  "kernelspec": {
   "display_name": "Python 3",
   "language": "python",
   "name": "python3"
  },
  "language_info": {
   "codemirror_mode": {
    "name": "ipython",
    "version": 3
   },
   "file_extension": ".py",
   "mimetype": "text/x-python",
   "name": "python",
   "nbconvert_exporter": "python",
   "pygments_lexer": "ipython3",
   "version": "3.11.8"
  }
 },
 "nbformat": 4,
 "nbformat_minor": 2
}
