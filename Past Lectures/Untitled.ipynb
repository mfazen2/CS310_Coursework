{
 "cells": [
  {
   "cell_type": "code",
   "execution_count": 73,
   "id": "42a999b5",
   "metadata": {},
   "outputs": [
    {
     "name": "stdout",
     "output_type": "stream",
     "text": [
      "alpha: 5.919444444444445\n",
      "delta: 7.407222222222223\n",
      "LSTRISE: 23.500262854240805\n",
      "LSTSET: 12.338626034648083\n",
      "GSTRISE: 5.381662854240805\n",
      "GSTSET: 18.220026034648082\n",
      "Julian date: 2460339.5\n",
      "T: 0.24078028747433264\n",
      "T0: 8.582426692589365\n",
      "UTR: 20.807975635101407\n",
      "UTS: 9.611284516028062\n",
      "CSTS:  3.6112845160280624\n",
      "CSTR:  14.807975635101407\n",
      "rise:  14 : 48 : 29\n",
      "set:   3 : 36 : 41\n"
     ]
    }
   ],
   "source": [
    "import math\n",
    "from math import *\n",
    "asc = (5,55,10)\n",
    "dec = (7,24,26)\n",
    "def f(x):\n",
    "    return (math.pi/180)*(x[0] + x[1]/60 + x[2]/3600)\n",
    "alpha = f(asc)\n",
    "delta = f(dec)\n",
    "print(\"alpha:\",(180/math.pi)*alpha)\n",
    "print(\"delta:\",(180/math.pi)*delta)\n",
    "lat = (math.pi/180 )*40.112\n",
    "Htop = math.sin(lat)*math.sin(delta)\n",
    "Hbot = math.cos(lat)*math.cos(delta)\n",
    "H = (180/math.pi)*(math.acos(-Htop/Hbot))/15\n",
    "LSTR =((180/math.pi)*alpha) - H + 24\n",
    "LSTS = ((180/math.pi)*alpha) + H\n",
    "print(\"LSTRISE:\",LSTR)\n",
    "print(\"LSTSET:\",LSTS)\n",
    "GSTR = LSTR + (88.221/15) -24\n",
    "GSTS = LSTS + (88.221/15)\n",
    "print(\"GSTRISE:\", GSTR)\n",
    "print(\"GSTSET:\", GSTS)\n",
    "ymd=(2024,1,30)\n",
    "A = math.trunc((ymd[0] - 1)/100)\n",
    "B = 2 - A + math.trunc(A/4)\n",
    "C = trunc(365.25*(ymd[0] - 1))\n",
    "D = trunc(30.6001*(ymd[1] + 13))\n",
    "JD = B + C + D + ymd[2] + 1720994.5\n",
    "print(\"Julian date:\",JD)\n",
    "T = (JD  - 2451545.0)/36525.0\n",
    "T0 = 6.697374558+(2400.051336*T) + 0.000025862*(T**2) - 24**2\n",
    "UTR = 0.9972695663*(GSTR-T0) + 24\n",
    "UTS = 0.9972695663*(GSTS-T0)\n",
    "print(\"T:\",T)\n",
    "print(\"T0:\",T0)\n",
    "print(\"UTR:\",UTR)\n",
    "print(\"UTS:\",UTS)\n",
    "CSTS = UTS - 6\n",
    "CSTR = UTR - 6\n",
    "print(\"CSTS: \",CSTS)\n",
    "print(\"CSTR: \",CSTR)\n",
    "def f(x):\n",
    "    h = math.trunc(x)\n",
    "    m = math.trunc((x-h)*60)\n",
    "    s = round((x-h-m/60)*3600)\n",
    "    return [h,m,s]\n",
    "hmss = f(CSTS)\n",
    "hmsr = f(CSTR)\n",
    "print(\"rise: \",hmsr[0],\":\",hmsr[1],\":\",hmsr[2])\n",
    "print(\"set:  \",hmss[0],\":\",hmss[1],\":\",hmss[2])"
   ]
  },
  {
   "cell_type": "code",
   "execution_count": null,
   "id": "72685bec",
   "metadata": {},
   "outputs": [],
   "source": []
  }
 ],
 "metadata": {
  "kernelspec": {
   "display_name": "Python 3 (ipykernel)",
   "language": "python",
   "name": "python3"
  },
  "language_info": {
   "codemirror_mode": {
    "name": "ipython",
    "version": 3
   },
   "file_extension": ".py",
   "mimetype": "text/x-python",
   "name": "python",
   "nbconvert_exporter": "python",
   "pygments_lexer": "ipython3",
   "version": "3.11.5"
  }
 },
 "nbformat": 4,
 "nbformat_minor": 5
}
