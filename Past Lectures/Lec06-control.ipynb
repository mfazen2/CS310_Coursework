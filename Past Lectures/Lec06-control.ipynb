{
 "cells": [
  {
   "cell_type": "code",
   "execution_count": 3,
   "id": "395897a5",
   "metadata": {},
   "outputs": [
    {
     "name": "stdout",
     "output_type": "stream",
     "text": [
      "1.1102230246251565e-16\n"
     ]
    }
   ],
   "source": [
    "#exercise 1: machine epsilon\n",
    "a = 1.0\n",
    "while(a+1 != 1):\n",
    "    a=a/2;\n",
    "print(a)"
   ]
  },
  {
   "cell_type": "code",
   "execution_count": 14,
   "id": "10c722a6",
   "metadata": {},
   "outputs": [
    {
     "name": "stdout",
     "output_type": "stream",
     "text": [
      "Enter a number: \n",
      "9\n",
      "1 , 1\n",
      "1 , 2\n",
      "2 , 3\n",
      "3 , 5\n",
      "5 , 8\n",
      "8 , 13\n",
      "13 , 21\n",
      "21 , 34\n",
      "34 , 55\n"
     ]
    }
   ],
   "source": [
    "#exercise 2: fibonacci\n",
    "print(\"Enter a number: \") \n",
    "x = int(input())\n",
    "a = 1\n",
    "b = 1\n",
    "for i in range(x):\n",
    "    print(a, \",\",b)\n",
    "    a,b=b,a+b\n"
   ]
  },
  {
   "cell_type": "code",
   "execution_count": 63,
   "id": "57fcfb6a",
   "metadata": {},
   "outputs": [
    {
     "name": "stdout",
     "output_type": "stream",
     "text": [
      "Enter a number: \n",
      "20\n",
      "2\n",
      "3\n",
      "5\n",
      "7\n",
      "11\n",
      "13\n",
      "17\n",
      "19\n"
     ]
    }
   ],
   "source": [
    "#exercise 3: the sive of Eratosthenes\n",
    "print(\"Enter a number: \")\n",
    "n = int(input())\n",
    "L = list(range(0,n+1))\n",
    "p = 2\n",
    "while p**2 <= n:\n",
    "    for m in range (p**2, n + 1, p):\n",
    "        L[m] = 0\n",
    "    for q in range (p+1,n+1,1):\n",
    "        if L[q] != 0 :\n",
    "            p = q\n",
    "            break\n",
    "for q in L:\n",
    "    if q > 1:\n",
    "        print(q)"
   ]
  },
  {
   "cell_type": "code",
   "execution_count": null,
   "id": "aaebe435",
   "metadata": {},
   "outputs": [],
   "source": []
  },
  {
   "cell_type": "markdown",
   "id": "0a872e15",
   "metadata": {},
   "source": [
    "# "
   ]
  }
 ],
 "metadata": {
  "kernelspec": {
   "display_name": "Python 3 (ipykernel)",
   "language": "python",
   "name": "python3"
  },
  "language_info": {
   "codemirror_mode": {
    "name": "ipython",
    "version": 3
   },
   "file_extension": ".py",
   "mimetype": "text/x-python",
   "name": "python",
   "nbconvert_exporter": "python",
   "pygments_lexer": "ipython3",
   "version": "3.11.5"
  }
 },
 "nbformat": 4,
 "nbformat_minor": 5
}
