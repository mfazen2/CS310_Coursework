{
  "cells": [
    {
      "cell_type": "markdown",
      "metadata": {
        "id": "CzXf01jtD-mA"
      },
      "source": [
        "### ASTR 310 Spring 2024 - Computing in Astronomy  \n",
        "**Homework 4 due Monday, February 19, 2024**  \n",
        "Name:   \n",
        "Net ID:   "
      ]
    },
    {
      "cell_type": "markdown",
      "metadata": {
        "id": "WPWfLcWhEYws"
      },
      "source": [
        "**1. Functional Programming in Python**  $(25 points)$  \n",
        "Rewrite each of the following code fragments as directed. Be sure to test your rewritten code to verify that it behaves exactly like the original.    \n",
        "\n",
        "**(a)** Rewrite using dictionaries with the names as keys and the Lx values as values.  $[5 pts]$\n",
        "```\n",
        "names = [ \"RXJ9938.1\", \"CL2016.33\", \"A4123\", \"A1101\"]  \n",
        "Lx = [1.5e44, 2.8e44, 1.0e45, 9.7e43]  \n",
        "names = names + [\"RXJ1234.8\"]   \n",
        "Lx = Lx + [8.4e44]\n",
        "```\n"
      ]
    },
    {
      "cell_type": "code",
      "execution_count": 10,
      "metadata": {
        "id": "RLRZeru_D8Pf"
      },
      "outputs": [
        {
          "name": "stdout",
          "output_type": "stream",
          "text": [
            "{'RXJ9938.1': 1.5e+44, 'CL2016.33': 2.8e+44, 'A4123': 1e+45, 'A1101': 9.7e+43, 'RXJ1234.8': 8.4e+44}\n"
          ]
        }
      ],
      "source": [
        "#Code Here\n",
        "names = [ \"RXJ9938.1\", \"CL2016.33\", \"A4123\", \"A1101\"]  \n",
        "Lx = [1.5e44, 2.8e44, 1.0e45, 9.7e43] \n",
        "tempdict = {}\n",
        "for i in range(len(names)):\n",
        "    tempdict[names[i]] = Lx[i]\n",
        "tempdict[\"RXJ1234.8\"]=8.4e44\n",
        "print(tempdict)"
      ]
    },
    {
      "cell_type": "markdown",
      "metadata": {
        "id": "mjiXUk0VFMgB"
      },
      "source": [
        "**(b)** Rewrite using list comprehensions.  $[5 pts]$\n",
        "```\n",
        "x = [0.] * 100\n",
        "y = [0.] * 100\n",
        "for i in range(100):\n",
        "    x[i] = 6. + i*0.3\n",
        "    y[i] = 4.*x[i]**2 - x[i]**0.5\n",
        "```\n",
        "\n"
      ]
    },
    {
      "cell_type": "code",
      "execution_count": 14,
      "metadata": {
        "id": "fkewsG3YFbiE"
      },
      "outputs": [
        {
          "name": "stdout",
          "output_type": "stream",
          "text": [
            "[6.0, 6.3, 6.6, 6.9, 7.2, 7.5, 7.8, 8.1, 8.4, 8.7, 9.0, 9.3, 9.6, 9.9, 10.2, 10.5, 10.8, 11.1, 11.399999999999999, 11.7, 12.0, 12.3, 12.6, 12.899999999999999, 13.2, 13.5, 13.8, 14.1, 14.4, 14.7, 15.0, 15.299999999999999, 15.6, 15.9, 16.2, 16.5, 16.799999999999997, 17.1, 17.4, 17.7, 18.0, 18.299999999999997, 18.6, 18.9, 19.2, 19.5, 19.799999999999997, 20.1, 20.4, 20.7, 21.0, 21.299999999999997, 21.6, 21.9, 22.2, 22.5, 22.8, 23.099999999999998, 23.4, 23.7, 24.0, 24.3, 24.599999999999998, 24.9, 25.2, 25.5, 25.8, 26.099999999999998, 26.4, 26.7, 27.0, 27.3, 27.599999999999998, 27.9, 28.2, 28.5, 28.8, 29.099999999999998, 29.4, 29.7, 30.0, 30.3, 30.599999999999998, 30.9, 31.2, 31.5, 31.8, 32.099999999999994, 32.4, 32.7, 33.0, 33.3, 33.599999999999994, 33.9, 34.2, 34.5, 34.8, 35.099999999999994, 35.4, 35.7]\n",
            "[141.5505102572168, 156.25001992039776, 171.67095348426696, 187.81321489268728, 204.67671842700025, 222.26138721247418, 240.5671519912462, 259.5939501058485, 279.3417246507621, 299.81042375924943, 321.0, 342.9104098636046, 365.541613323034, 388.89357345548956, 412.9662561154657, 437.75962965079606, 463.2736646549691, 489.50833375020846, 516.4636113967731, 544.1394737247025, 572.5358983848622, 601.65286441665, 631.4903521301402, 662.0483430007863, 693.3268195750829, 725.3257653858252, 758.0451648757987, 791.4850033288963, 825.645266807798, 860.5259420974637, 896.1270166537926, 932.4484785568783, 969.4903164683736, 1007.2525195925247, 1045.7350776405003, 1084.937980797682, 1124.8612196936158, 1165.5047853743731, 1206.8686692770768, 1248.9528632064073, 1291.7573593128807, 1335.282150072758, 1379.5272282694307, 1424.4925869761428, 1470.1782195399587, 1516.584119566836, 1563.7102809077421, 1611.5566976457083, 1660.1233640837454, 1709.410274733569, 1759.417424305044, 1810.1448076963138, 1861.5924199845513, 1913.7602564172807, 1966.648312404244, 2020.2565835097475, 2074.585065445475, 2129.6337540637205, 2185.4026453510205, 2241.8917354221444, 2299.1010205144335, 2357.0304969824533, 2415.6801612929444, 2475.0500100200497, 2535.1400398407955, 2595.950247530819, 2657.4806299603197, 2719.7311840902216, 2782.7019069685334, 2846.3927957268943, 2910.8038475772933, 2975.935059808955, 3041.786429785374, 3108.357954941502, 3175.649632781059, 3243.661460873984, 3312.393436854001, 3381.845558416295, 3452.017823315309, 3522.9102293626242, 3594.5227744249482, 3666.855456422191, 3739.9082733256237, 3813.681223156125, 3888.1743039824923, 3963.387513919839, 4039.3208511280513, 4115.974313810312, 4193.3479002116965, 4271.441608617803, 4350.255437353462, 4429.7893847814985, 4510.043449301523, 4591.017629348796, 4672.711923393115, 4755.126329937764, 4838.260847518498, 4922.1154747025585, 5006.690210087742, 5091.985052301485]\n"
          ]
        }
      ],
      "source": [
        "#Code Here\n",
        "x=[6. + i*.3 for i in range(100)]\n",
        "print(x)\n",
        "y=[4.*x**2 - x**0.5 for x in x]\n",
        "print(y)\n"
      ]
    },
    {
      "cell_type": "markdown",
      "metadata": {
        "id": "oQ0e0B9ZFcjs"
      },
      "source": [
        "**c)** Rewrite using list comprehensions and filter. Hint: you can nest list comprehen-\n",
        "sions (use one inside another). Yes, this will be much easier with numpy arrays, but\n",
        "we are not doing that yet. The intent here is to practice with list comprehensions\n",
        "so solutions using numpy will be graded as incorrect. $[7 pts]$  \n",
        "\n",
        "```\n",
        "x = list(range(101))\n",
        "y = list(range(101))\n",
        "z = list(range(101))\n",
        "for i in range(101):\n",
        "    x[i] = x[i] * 0.01\n",
        "    y[i] = y[i] * 0.01\n",
        "    z[i] = z[i] * 0.01\n",
        "rho = []\n",
        "s = 0.\n",
        "for k in range(101):\n",
        "    rho = rho + [[]]\n",
        "    for j in range(101):\n",
        "        rho[k] = rho[k] + [[]]\n",
        "        for i in range(101):\n",
        "            rho[k][j] = rho[k][j] + [((x[i]-0.5)**2 + \\\n",
        "                                      (y[j]-0.5)**2 + \\\n",
        "                                    (z[k]-0.5)**2)**0.5]\n",
        "            if rho[k][j][i] > 0.5:\n",
        "                s = s + rho[k][j][i]\n",
        "```\n",
        "\n"
      ]
    },
    {
      "cell_type": "code",
      "execution_count": 2,
      "metadata": {
        "id": "k4i7mZsJGG4V"
      },
      "outputs": [
        {
          "name": "stdout",
          "output_type": "stream",
          "text": [
            "303575.1160929157\n"
          ]
        }
      ],
      "source": [
        "#Code Here\n",
        "x = y = z = [i * 0.01 for i in range(101)]\n",
        "rho = [[[(((x[i]-0.5)**2 + (y[j]-0.5)**2 + (z[k]-0.5)**2)**0.5) for i in range(101)] for j in range(101)] for k in range(101)]\n",
        "s = sum(sum(sum(rho[k][j][i] for i in range(101) if rho[k][j][i] > .5) for j in range(101)) for k in range(101))\n",
        "print (s)\n"
      ]
    },
    {
      "cell_type": "markdown",
      "metadata": {
        "id": "X1zBQhsOGJHN"
      },
      "source": [
        "**d)** Rewrite using list comprehensions and zip. $(8 pts)$  \n",
        "\n",
        "\n",
        "```\n",
        "r = [1.0, 2.0, 4.0, 8.0, 16.0, 32.0]\n",
        "rho = [0.99, 0.87, 0.79, 0.61, 0.50, 0.45]\n",
        "i = 0\n",
        "m = lastr = 0.\n",
        "vfact = 1./3.\n",
        "while i < 6:\n",
        "    m = m + 4.*3.14159*vfact * r[i]**2 * rho[i] * (r[i] - lastr)\n",
        "    print(\"%5.2f %5.2f %10.2f\" % (r[i], rho[i], m))\n",
        "    lastr = r[i]\n",
        "    vfact = 1.\n",
        "    i = i + 1\n",
        "```\n",
        "\n"
      ]
    },
    {
      "cell_type": "code",
      "execution_count": 67,
      "metadata": {},
      "outputs": [
        {
          "name": "stdout",
          "output_type": "stream",
          "text": [
            "{(32.0, 0.45), (8.0, 0.61), (16.0, 0.5), (1.0, 0.99), (4.0, 0.79), (2.0, 0.87)}\n",
            " 1.00  0.99       4.15\n",
            " 2.00  0.87      47.88\n",
            " 4.00  0.79     365.56\n",
            " 8.00  0.61    2327.92\n",
            "16.00  0.50   15195.87\n",
            "32.00  0.45  107845.13\n"
          ]
        }
      ],
      "source": [
        "#Code Here\n",
        "r=[2.0**i for i in range(6)]\n",
        "rho = [.99,.87,.79,.61,.5,.45]\n",
        "rhor = zip(r,rho)\n",
        "print(set(rhor))\n",
        "i=0\n",
        "m = lastr = 0\n",
        "vfact=1./3.\n",
        "def mpop(val,item):\n",
        "    \n",
        "while i < 6:\n",
        "    m = m + 4.*3.14159*vfact * r[i]**2 * rho[i] * (r[i] - lastr)\n",
        "    print(\"%5.2f %5.2f %10.2f\" % (r[i], rho[i], m))\n",
        "    lastr = r[i]\n",
        "    vfact = 1.\n",
        "    i = i + 1\n",
        "\n",
        "\n"
      ]
    },
    {
      "cell_type": "markdown",
      "metadata": {
        "id": "OjohYWTzGiM-"
      },
      "source": [
        "**2. Working with tabular data from a file**  $(25 pts)$\n",
        "Obtain the file “stars.txt” from the course website. This is a text file containing a table of\n",
        "observational quantities for the 26 brightest stars as seen from Earth. Each line of the file\n",
        "contains the name of a star, its Bayer designation (e.g. Alpha Canis Majoris), its distance\n",
        "in light-years (ly), its apparent visual magnitude, its absolute visual magnitude, and its\n",
        "spectral type. The spectral types include the luminosity class (e.g. V for dwarf stars)\n",
        "and some additional designations (e.g. v for variable, or the spectral type of a binary\n",
        "companion, such as “G2V + K1V” ).  \n",
        "Write a Python program that does the following.  \n",
        "\n",
        "**(a)** Construct a dictionary that stores the mapping between the abbreviations for con-\n",
        "stellation names and the full names of the constellations. For example, the key\n",
        "“CMa” should be associated with the value “Canis Major”. The 88 official IAU\n",
        "constellations are described at https://www.iau.org/public/themes/constellations/.\n",
        "You don’t need all 88, just the ones represented in the “stars.txt” file.$[4 pts]$\n"
      ]
    },
    {
      "cell_type": "code",
      "execution_count": null,
      "metadata": {
        "id": "L0sEH7voGbEk"
      },
      "outputs": [],
      "source": [
        "#Code Here\n",
        "\n",
        "consabb = {\"CMa\":\"Canis Majror\",\"Car\":,/\n",
        "           \"Cen\":,\"Boo\":,\"Lyr\":,\"Aur\":,/\n",
        "           \"Ori\":,\"CMi\":,\"Eri\":,\"Cru\":,/\n",
        "           \"Aql\":,\"Tau\":,\"Sco\":,\"Vir\":,/\n",
        "           \"Gem\":,\"PsA\":,\"Leo\":,\"Cyg\":}"
      ]
    },
    {
      "cell_type": "markdown",
      "metadata": {
        "id": "eeGM_aNIHD0W"
      },
      "source": [
        "**(b)** Read the “stars.txt” file and use it to construct a dictionary in which the keys are the\n",
        "names of stars and the values are dictionaries containing (i) the constellation name using the dictionary from part a, (ii) the distance in parsecs (3.26 ly = 1 pc), (iii) the apparent magnitude, (iv) the absolute magnitude, and (v) the major spectral class (of the first component if the star is a binary). For example the key-value pair for Rigil Kentaurus would be something like $[6 pts]$\n",
        "\n",
        "```\n",
        "\"Rigil Kentaurus\" : {\"constellation\" : \"Centaurus\", \"distance\" : 1.3, \"m\" : -0 27, \"M\" : 4.4, \"class\": \"G2\"}\n",
        "```\n",
        "\n"
      ]
    },
    {
      "cell_type": "code",
      "execution_count": null,
      "metadata": {
        "id": "MCyPwhiSHtW_"
      },
      "outputs": [],
      "source": [
        "#Code Here"
      ]
    },
    {
      "cell_type": "markdown",
      "metadata": {
        "id": "_f8F6LfLHfvw"
      },
      "source": [
        "**(c)** Write a function that computes the absolute magnitude M given the apparent magnitude m and the distance d in parsecs using $m$ − $M$ = 5(log$d$ − 1) $[4pts]$\n"
      ]
    },
    {
      "cell_type": "code",
      "execution_count": null,
      "metadata": {
        "id": "8i8CGE6bHVlE"
      },
      "outputs": [],
      "source": [
        "#Code Here"
      ]
    },
    {
      "cell_type": "markdown",
      "metadata": {
        "id": "jDfGTQqKIDKl"
      },
      "source": [
        "**(d)** Loop over your stars dictionary and change the absolute magnitudes to be consistent\n",
        "with the apparent magnitudes and distances, using your function from (c) $[6 pts]$"
      ]
    },
    {
      "cell_type": "code",
      "execution_count": null,
      "metadata": {
        "id": "wxmuf0eKIKWz"
      },
      "outputs": [],
      "source": [
        "#Code Here"
      ]
    },
    {
      "cell_type": "markdown",
      "metadata": {
        "id": "HGkC6lv9ILyA"
      },
      "source": [
        "**(e)** Construct a list of the names of the stars in order sorted by absolute magnitude.\n",
        "Using this list, print a table containing the stars’ names, constellations, absolute\n",
        "magnitudes, and spectral classes. The table should have an appropriate header, and\n",
        "each column should be formatted to be the width of the longest entry in that column.\n",
        "Absolute magnitudes should have two digits after the decimal point and have the\n",
        "decimal points line up. For example:\n",
        "$[5 pts]$\n",
        "\n",
        "```\n",
        "name      constellation     abs mag     class\n",
        "Achernar    Eridani         -1.17        B3\n",
        "Altair      Aquila           2.32        A7\n",
        "```\n",
        "\n"
      ]
    },
    {
      "cell_type": "code",
      "execution_count": null,
      "metadata": {
        "id": "mRQqMo5JKUjf"
      },
      "outputs": [],
      "source": [
        "#Code Here"
      ]
    },
    {
      "cell_type": "code",
      "execution_count": null,
      "metadata": {
        "id": "OodYiii-ILZX"
      },
      "outputs": [],
      "source": [
        "%%capture\n",
        "# Here we use a script to generate pdf and save it to google drive.\n",
        "\n",
        "# After executing this cell, you will be asked to link to your GoogleDrive account.\n",
        "# Then, the pdf will be generated and saved to your GoogleDrive account and you need to go there to download;\n",
        "\n",
        "from google.colab import drive\n",
        "drive.mount('/content/drive')\n",
        "# install tex; first run may take several minutes\n",
        "! apt-get install texlive-xetex\n",
        "# file path and save location below are default; please change if they do not match yours\n",
        "! jupyter nbconvert --output-dir='/content/drive/MyDrive/' '/content/drive/MyDrive/Colab Notebooks/HW4_ASTR_310.ipynb' --to pdf"
      ]
    }
  ],
  "metadata": {
    "colab": {
      "provenance": []
    },
    "kernelspec": {
      "display_name": "Python 3",
      "name": "python3"
    },
    "language_info": {
      "codemirror_mode": {
        "name": "ipython",
        "version": 3
      },
      "file_extension": ".py",
      "mimetype": "text/x-python",
      "name": "python",
      "nbconvert_exporter": "python",
      "pygments_lexer": "ipython3",
      "version": "3.11.8"
    }
  },
  "nbformat": 4,
  "nbformat_minor": 0
}
