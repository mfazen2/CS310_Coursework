{
  "cells": [
    {
      "cell_type": "markdown",
      "metadata": {
        "id": "Pk9FISMb7G27"
      },
      "source": [
        "Name:   Maxwell Fazen\n",
        "Net ID:  mfazen2 \n",
        "\n"
      ]
    },
    {
      "cell_type": "markdown",
      "metadata": {
        "id": "HsfibmBe7LA2"
      },
      "source": [
        "### Exercise 1: random stuff\n",
        "\n",
        "The `random` module in the standard library provides random number-related functions, particularly:\n",
        "\n",
        "- `random.randint(a, b)`: return a random integer between `a` and `b`, inclusive\n",
        "- `random.random()`: return a random float in the range [0,1)\n",
        "- `random.shuffle(S)`: randomly shuffle the sequence `S` in place\n",
        "- `random.choice(S)`: return a random choice from the sequence `S`\n",
        "\n",
        "Write Python code to:\n",
        "- create a sorted random list of 100 floats between 0 and 2π\n",
        "- generate a six-digit random integer code (convert to string and pad with zeros if it is less than 100000)\n",
        "- generate a ten-character random string containing characters from a set including upper- and lowercase letters, digits, and `#!$@%^&*`. You may like to check helpful information in the documentation for the `string` library. [6 pts]\n"
      ]
    },
    {
      "cell_type": "code",
      "execution_count": 24,
      "metadata": {
        "id": "GZz5qEmX6F0Y"
      },
      "outputs": [
        {
          "name": "stdout",
          "output_type": "stream",
          "text": [
            "[1.2100335026321414, 1.2100335026321414, 1.2100335026321414, 1.2100335026321414, 1.2100335026321414, 1.2100335026321414, 1.2100335026321414, 1.2100335026321414, 1.2100335026321414, 1.2100335026321414, 1.2100335026321414, 1.2100335026321414, 1.2100335026321414, 1.2100335026321414, 1.2100335026321414, 1.2100335026321414, 1.2100335026321414, 1.2100335026321414, 1.2100335026321414, 1.2100335026321414, 1.2100335026321414, 1.2100335026321414, 1.2100335026321414, 1.2100335026321414, 1.2100335026321414, 1.2100335026321414, 1.2100335026321414, 1.2100335026321414, 1.2100335026321414, 1.2100335026321414, 1.2100335026321414, 1.2100335026321414, 1.2100335026321414, 1.2100335026321414, 1.2100335026321414, 1.2100335026321414, 1.2100335026321414, 1.2100335026321414, 1.2100335026321414, 1.2100335026321414, 1.2100335026321414, 1.2100335026321414, 1.2100335026321414, 1.2100335026321414, 1.2100335026321414, 1.2100335026321414, 1.2100335026321414, 1.2100335026321414, 1.2100335026321414, 1.2100335026321414, 1.2100335026321414, 1.2100335026321414, 1.2100335026321414, 1.2100335026321414, 1.2100335026321414, 1.2100335026321414, 1.2100335026321414, 1.2100335026321414, 1.2100335026321414, 1.2100335026321414, 1.2100335026321414, 1.2100335026321414, 1.2100335026321414, 1.2100335026321414, 1.2100335026321414, 1.2100335026321414, 1.2100335026321414, 1.2100335026321414, 1.2100335026321414, 1.2100335026321414, 1.2100335026321414, 1.2100335026321414, 1.2100335026321414, 1.2100335026321414, 1.2100335026321414, 1.2100335026321414, 1.2100335026321414, 1.2100335026321414, 1.2100335026321414, 1.2100335026321414, 1.2100335026321414, 1.2100335026321414, 1.2100335026321414, 1.2100335026321414, 1.2100335026321414, 1.2100335026321414, 1.2100335026321414, 1.2100335026321414, 1.2100335026321414, 1.2100335026321414, 1.2100335026321414, 1.2100335026321414, 1.2100335026321414, 1.2100335026321414, 1.2100335026321414, 1.2100335026321414, 1.2100335026321414, 1.2100335026321414, 1.2100335026321414, 1.2100335026321414]\n",
            "008170\n",
            "x7su4qGat#\n"
          ]
        }
      ],
      "source": [
        "#Code Here\n",
        "import math\n",
        "import random \n",
        "import string\n",
        "L = [random.uniform(0,2*math.pi)]*100\n",
        "L.sort()\n",
        "print(L)\n",
        "n = random.randint(0,100000)\n",
        "nstr = str(n)\n",
        "nstr = nstr.zfill(6)\n",
        "print(nstr)\n",
        "\n",
        "\n",
        "pullfrom = string.ascii_letters + string.digits + \"#!$@%^&*\"\n",
        "s = \"\"\n",
        "for i in range(10):\n",
        "    s = s + random.choice(pullfrom)\n",
        "print(s)\n",
        "\n"
      ]
    },
    {
      "cell_type": "markdown",
      "metadata": {
        "id": "5zcpwNyP8yS7"
      },
      "source": [
        "### Exercise 2: time\n",
        "\n",
        "The `time` module in the standard library provides, unsurprisingly, time-related functions, in particular:\n",
        "\n",
        "- `time.time()`: return the number of seconds since January 1, 1970 00:00:00 UTC (known as the epoch)\n",
        "- `time.localtime()`: return a `time_struct` object containing the local time\n",
        "- `time.asctime(ts)`: given a `time_struct` object `ts`, return a string-formatted date and time\n",
        "- `time.perf_counter()`: return seconds of a highly accurate counter\n",
        "- `time.sleep(n)`: pause for `n` seconds\n",
        "\n",
        "Download the Sieve of Eratosthenes module (`sieve.py`) from the course Canvas page. This contains a single function, `getprimes(n)`, which returns a list of all primes up to `n`. You can import this function into your notebook with `import`.\n",
        "\n",
        "Write a Python function to accept a value of `n`, then time a call to `getprimes(n)` and return a tuple containing the output of the function and the elapsed time.\n",
        "\n",
        "If you get bored: make your timing function work with generic functions with arbitrary arguments. $[5 pts]$\n"
      ]
    },
    {
      "cell_type": "code",
      "execution_count": 34,
      "metadata": {
        "id": "cpS8SIPv81L9"
      },
      "outputs": [
        {
          "data": {
            "text/plain": [
              "(1.030000566970557e-05, [1, 2, 3, 5])"
            ]
          },
          "execution_count": 34,
          "metadata": {},
          "output_type": "execute_result"
        }
      ],
      "source": [
        "#Code Here\n",
        "import time\n",
        "from sieve import getprimes\n",
        "def timefunc(func,*arg):\n",
        "    timestart = time.perf_counter()\n",
        "    out = func(*arg)\n",
        "    timeend = time.perf_counter()\n",
        "    return (timeend-timestart,out)\n",
        "timefunc(getprimes,int(input(\"Enter a value:\")))"
      ]
    },
    {
      "cell_type": "markdown",
      "metadata": {
        "id": "ij_fgI9384gq"
      },
      "source": [
        "### Exercise 3: directory listing\n",
        "\n",
        "Write a standalone Python program (not a Jupyter notebook) that uses the `sys` and `os` modules to generate a directory tree listing. The program should take one argument, the name of a directory, and recursively print the names of all files and directories below it. Try to produce output like the following:\n",
        "\n",
        "foo  \n",
        "|-- a.txt  \n",
        "|-- b.txt  \n",
        "|-- code  \n",
        "|   |-- a.py  \n",
        "|   |-- b.py  \n",
        "|   |-- docs  \n",
        "|   |   |-- a.txt  \n",
        "|   |   |-- b.txt  \n",
        "|   |-- x.py  \n",
        "|-- z.txt  \n",
        "\n",
        "$[9 pts]$"
      ]
    },
    {
      "cell_type": "code",
      "execution_count": null,
      "metadata": {
        "id": "mEbd8md29Bu9"
      },
      "outputs": [],
      "source": [
        "#Code Here\n",
        "import sys\n",
        "import os\n",
        "def directorytree(directory,ind=\"|\"):\n",
        "    print(ind + os.path.basename(directory)+\"/\")\n",
        "    ind = ind + ' -- '\n",
        "    for item in os.listdir(directory):\n",
        "        item_path = os.path.join(directory,item)\n",
        "        if os.path.isdir(item_path):\n",
        "            directorytree(item_path,ind)\n",
        "        else:\n",
        "            print(ind+item)\n",
        "if __name__ == \"__main__\":\n",
        "    if(len(sys.argv) != 2):\n",
        "        print(\"OOPS WRONG ARGUEMENT! Please try the following format: python directorylist.py <directory path>\")\n",
        "        sys.exit(1)\n",
        "    target_dir = sys.argv[1]\n",
        "    if not os.path.exists(target_dir):\n",
        "        print(\"ERROR: Invalid directory, \",target_dir,\" does not exist.\")\n",
        "        sys.exit(1)\n",
        "    if not os.path.isdir(target_dir):\n",
        "        print(\"Error: \",target_dir,\" is not a valid directory.\")\n",
        "        sys.exit(1)\n",
        "\n",
        "    directorytree(target_dir)        \n",
        "\n",
        "##OUTPUT##\n",
        "PS C:\\Users\\Maxwell Fazen\\Documents\\ASTR310> python directorylist.py \"../Respawn\"             \n",
        "|Respawn/\n",
        "| -- Titanfall2/\n",
        "| --  -- local/\n",
        "| --  --  -- settings.cfg\n",
        "| --  --  -- videoconfig.txt\n",
        "| --  -- profile/\n",
        "| --  --  -- profile.cfg\n",
        "| --  --  -- savegames/\n",
        "| --  --  --  -- savegame.sav\n"
      ]
    },
    {
      "cell_type": "code",
      "execution_count": null,
      "metadata": {
        "id": "bKbmoIk7-xN9"
      },
      "outputs": [],
      "source": [
        "%%capture\n",
        "# Here we use a script to generate pdf and save it to google drive.\n",
        "\n",
        "# After executing this cell, you will be asked to link to your GoogleDrive account.\n",
        "# Then, the pdf will be generated and saved to your GoogleDrive account and you need to go there to download;\n",
        "\n",
        "from google.colab import drive\n",
        "drive.mount('/content/drive')\n",
        "# install tex; first run may take several minutes\n",
        "! apt-get install texlive-xetex\n",
        "# file path and save location below are default; please change if they do not match yours\n",
        "! jupyter nbconvert --output-dir='/content/drive/MyDrive/' '/content/drive/MyDrive/Colab Notebooks/In_Class_Exercises_11.ipynb' --to pdf"
      ]
    }
  ],
  "metadata": {
    "colab": {
      "provenance": []
    },
    "kernelspec": {
      "display_name": "Python 3",
      "name": "python3"
    },
    "language_info": {
      "codemirror_mode": {
        "name": "ipython",
        "version": 3
      },
      "file_extension": ".py",
      "mimetype": "text/x-python",
      "name": "python",
      "nbconvert_exporter": "python",
      "pygments_lexer": "ipython3",
      "version": "3.11.8"
    }
  },
  "nbformat": 4,
  "nbformat_minor": 0
}
