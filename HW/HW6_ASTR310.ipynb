{
  "cells": [
    {
      "cell_type": "markdown",
      "id": "52248e84",
      "metadata": {
        "id": "52248e84"
      },
      "source": [
        "# ASTR 310 HW6\n",
        "\n",
        "## 1. Working with NumPy  \n",
        "Name:Maxwell Fazen \n",
        "\n",
        "Net ID: mfazen2    "
      ]
    },
    {
      "cell_type": "markdown",
      "id": "B36yA2U7wEIH",
      "metadata": {
        "id": "B36yA2U7wEIH"
      },
      "source": [
        "**Working with NumPy\n",
        "Write Python code fragments using NumPy data structures, types, and operations to perform\n",
        "the following operations.**   \n",
        "*Avoid explicit iterations over arrays!*\n"
      ]
    },
    {
      "cell_type": "markdown",
      "id": "a225d0d5",
      "metadata": {
        "id": "a225d0d5"
      },
      "source": [
        "**a)** (a) The function `numpy.random.random_sample()` allows you to create an array with random values in the range \\[0.0, 1.0\\). You can multiply the output by a scaling factor and add an offset to it to get it to lie in a different range. Create a 10 x 10 array initialized with random numbers that lie between 3 and 10, then compute the average of the array. (4 points)\n"
      ]
    },
    {
      "cell_type": "code",
      "execution_count": 6,
      "id": "f19efc6c",
      "metadata": {
        "id": "f19efc6c"
      },
      "outputs": [
        {
          "name": "stdout",
          "output_type": "stream",
          "text": [
            "6.7050349963339375\n"
          ]
        }
      ],
      "source": [
        "# Code here\n",
        "import numpy as np\n",
        "A = ((10-3)*np.random.random_sample((10,10))+3)\n",
        "av = np.average(A)\n",
        "print(av)"
      ]
    },
    {
      "cell_type": "markdown",
      "id": "5f967e83",
      "metadata": {
        "id": "5f967e83"
      },
      "source": [
        "**b)** reate a 1D array containing angles in degrees: 0, 15, 30, ... 90 (i.e., every 15 degrees up to\n",
        "90). Now create 3 new arrays with the sine, cosine, and tangent of the elements of the first\n",
        "array. Finally, calculate the inverse sine, inverse cosine, and inverse tangent of the arrays\n",
        "above and compare to the original angles. Compute the fractional error where possible. (5 points)"
      ]
    },
    {
      "cell_type": "code",
      "execution_count": 19,
      "id": "0bddedf6",
      "metadata": {
        "id": "0bddedf6"
      },
      "outputs": [
        {
          "name": "stdout",
          "output_type": "stream",
          "text": [
            "[ 0. 15. 30. 45. 60. 75. 90.]\n",
            "[ 0. 15. 30. 45. 60. 75. 90.]\n",
            "[ 0. 15. 30. 45. 60. 75. 90.]\n",
            "[ 0. 15. 30. 45. 60. 75. 90.]\n"
          ]
        }
      ],
      "source": [
        "# Code here\n",
        "B = np.linspace(0,90,7)\n",
        "print(B)\n",
        "sinB = np.sin(B*np.pi/180)\n",
        "cosB = np.cos(B*np.pi/180)\n",
        "tanB = np.tan(B*np.pi/180)\n",
        "\n",
        "asinB = np.arcsin(sinB)*180/np.pi\n",
        "acosB = np.arccos(cosB)*180/np.pi\n",
        "atanB = np.arctan(tanB)*180/np.pi\n",
        "print(asinB)\n",
        "print(acosB)\n",
        "print(atanB)\n",
        "##no fractional error?"
      ]
    },
    {
      "cell_type": "markdown",
      "id": "0ad7ca9e",
      "metadata": {
        "id": "0ad7ca9e"
      },
      "source": [
        "**c)** NumPy has a standard deviation function, numpy.std(), but here we'll write our own\n",
        "that works on a 1D array. The standard deviation is a measure of the “width” of the\n",
        "distribution of numbers in the array. Given an array $a$ and its average ${\\bar a}$, the standard\n",
        "deviation is given by\n",
        "\n",
        "$$\\sigma = \\left[{1\\over N}\\sum_{i=0}^{N-1} (a_i - {\\bar a})^2\\right]^{1/2}\\ .$$\n",
        "\n",
        "Card-carrying statistics aficionados will remind you that if you have to compute $\\bar{a}$ from the\n",
        "data themselves you should normalize by $1/(N-1)$ rather than $1/N$, but we won't worry\n",
        "about that for now.  Write a function to calculate the standard deviation for an input array $a$. Test your\n",
        "function on a random array with 100 elements, and compare to the built-in\n",
        "numpy.std(). (5 points)"
      ]
    },
    {
      "cell_type": "code",
      "execution_count": 22,
      "id": "1b4abe57",
      "metadata": {
        "id": "1b4abe57"
      },
      "outputs": [
        {
          "name": "stdout",
          "output_type": "stream",
          "text": [
            "28.655001308672105\n",
            "28.655001308672105\n"
          ]
        }
      ],
      "source": [
        "# Code here\n",
        "def stdev(a):\n",
        "    mean = np.mean(a)\n",
        "    total = np.sum((a-mean)**2)\n",
        "    out = (total/a.size)**(1/2)\n",
        "    return out\n",
        "test = np.random.randint(100,size=100)\n",
        "print(stdev(test))\n",
        "print(np.std(test))\n"
      ]
    },
    {
      "cell_type": "markdown",
      "id": "11807990",
      "metadata": {
        "id": "11807990"
      },
      "source": [
        "**d)** Given a scalar value $x$ and a NumPy array $v$, write code to find the value in $v$ that is\n",
        "closest to $x$. Do not assume $v$ is sorted. Test your code with an array containing 100\n",
        "random numbers between 5 and 50 and $x$ = 25 (4 points)"
      ]
    },
    {
      "cell_type": "code",
      "execution_count": 53,
      "id": "5fd2cbf4",
      "metadata": {
        "id": "5fd2cbf4"
      },
      "outputs": [
        {
          "name": "stdout",
          "output_type": "stream",
          "text": [
            "[49 43 45 21 22 17 20 39 17 13 13 26 48  7 16 12 41 45 32 43 42 15 23  5\n",
            " 37 37 14 18 22 46 40 25 26 48 21 24 11 27 47 47 13 28 46 22 24 37 19 18\n",
            " 42 37 20 45 10 46 33  9 10 31  8 32 13  5 16 33 17 21 44 33 48 30 48 38\n",
            " 20 16 32  6 12 46 33 27 25 29 44 49 39 49 35 30 29  7 32 15 21 37 10 41\n",
            " 40 14 31 40]\n",
            "25\n"
          ]
        }
      ],
      "source": [
        "# Code here\n",
        "x = 25\n",
        "v = np.random.randint(5,50,size=100)\n",
        "print(v)\n",
        "def find(target,arr):\n",
        "    index = (np.abs(arr-target)).argmin()\n",
        "    return index\n",
        "print(v[find(x,v)])"
      ]
    },
    {
      "cell_type": "markdown",
      "id": "6aa12f4e",
      "metadata": {
        "id": "6aa12f4e"
      },
      "source": [
        "**e)** Create a one-dimensional array $x$ containing 100 randomly selected values between 0\n",
        "and $2\\pi$. Sort the array. Create another 1D array $y$ in which the $j$th element contains\n",
        "\n",
        "$$y_j = \\sin^2 x_j \\cos x_j\\ .$$\n",
        "\n",
        "Next use the trapezoidal rule to integrate $y$ on this interval. Recall that the trapezoidal rule is given by\n",
        "\n",
        "$$\\int_a^b y(x)\\,dx \\approx \\sum_{j=0}^{N-2} {1\\over 2}(y_j + y_{j+1})(x_{j+1}-x_j)\\ .$$\n",
        "\n",
        "Finally, produce two arrays containing, respectively, those $x$- and $y$-points from the grid for which $y > 0.25$. (7 points)"
      ]
    },
    {
      "cell_type": "code",
      "execution_count": 81,
      "id": "54c087ea",
      "metadata": {
        "id": "54c087ea"
      },
      "outputs": [
        {
          "name": "stdout",
          "output_type": "stream",
          "text": [
            "-0.00882762861331439\n",
            "[0.29505619 0.36769767 0.38012982 0.38481694 0.38186027 0.37920678\n",
            " 0.36176154 0.27061793 0.30218539 0.30292544 0.34648791 0.3844441\n",
            " 0.37994655 0.37961953 0.37958608 0.37780826 0.37257588 0.25871773]\n",
            "[0.65643848 0.83073802 0.89044765 0.96379879 1.00636683 1.02508439\n",
            " 1.09555678 1.26950892 5.06174025 5.06295723 5.14718708 5.30803826\n",
            " 5.39398574 5.39615814 5.3963766  5.40715837 5.43289546 5.69064793]\n"
          ]
        }
      ],
      "source": [
        "# Code here\n",
        "X = np.sort(2*np.pi*np.random.random_sample(100))\n",
        "Y = ((np.sin(X))**2)*np.cos(X)\n",
        "integ = np.sum(0.5*((X[1:]-X[:-1])*(Y[1:]+Y[:-1])))\n",
        "print(integ)\n",
        "YY = (Y) > .25\n",
        "XX = X[YY]\n",
        "YY = Y[YY]\n",
        "print(YY)\n",
        "print(XX)"
      ]
    },
    {
      "cell_type": "markdown",
      "id": "a160473d",
      "metadata": {
        "id": "a160473d"
      },
      "source": [
        "## 2. Rise and set times of Betelgeuse with Astropy"
      ]
    },
    {
      "cell_type": "markdown",
      "id": "1423e007-3044-4825-ba56-f5c144352227",
      "metadata": {
        "id": "1423e007-3044-4825-ba56-f5c144352227"
      },
      "source": [
        "Using Astropy we can get the altitude and azimuth of an object at a given location and time,\n",
        "eg. using    \n",
        "\n",
        "```\n",
        "from astropy.coordinates import EarthLocation, SkyCoord, AltAz\n",
        "from astropy.time import Time\n",
        "obsloc = EarthLocation.of_address(\"1002 W. Green St., Urbana, IL\")\n",
        "target = SkyCoord.from_name(\"Betelgeuse\")\n",
        "obstime = Time(Time.now(), location=obsloc)\n",
        "altaz = target.transform_to(AltAz(obstime=obstime, location=obsloc))\n",
        "```\n",
        "  \n",
        "Here obstime by default uses the UTC time scale, and the altaz object has altitude (alt)\n",
        "and azimuth (az) attributes that are Angle objects. Notice that here the observation time is\n",
        "taken to be “now,” i.e. whenever the code is run. The Time constructor can also accept different\n",
        "time specifications; use help(Time) or the Astropy documentation to find out how to create a\n",
        "Time object for a given date and time.  \n",
        "\n",
        "\n",
        "With this information, write a function to use binary search to find the times on a given date\n",
        "when Betelgeuse has an altitude of zero to within one second, and determine which is the rise\n",
        "time and which is the set time. We suggest that you specify the date using a (month, day, year)\n",
        "tuple. Hints:"
      ]
    },
    {
      "cell_type": "markdown",
      "id": "VDerxthOyegZ",
      "metadata": {
        "id": "VDerxthOyegZ"
      },
      "source": [
        "**a)** Take your initial search intervals to be (obstime-12*u.hour, obstime) and (obstime,\n",
        "obstime+12*u.hour), where obstime is taken to be noon CST on the specified date. (7 points)"
      ]
    },
    {
      "cell_type": "code",
      "execution_count": 95,
      "id": "478a7db3-47f7-4a96-a565-2204a6e06530",
      "metadata": {
        "id": "478a7db3-47f7-4a96-a565-2204a6e06530"
      },
      "outputs": [
        {
          "name": "stdout",
          "output_type": "stream",
          "text": [
            "Betelgeuse rise time at           2024-03-04 11:59:59.341 CST\n",
            "Betelgeuse set time at           2024-03-04 12:32:10.737 CST\n"
          ]
        }
      ],
      "source": [
        "# Code here\n",
        "from astropy.coordinates import EarthLocation, SkyCoord, AltAz\n",
        "from astropy.time import Time\n",
        "from astropy import units as u\n",
        "date = (3,4,2024)\n",
        "target = SkyCoord.from_name(\"Betelgeuse\")\n",
        "obsloc = EarthLocation.of_address(\"1002 W. Green St., Urbana, IL, USA\")\n",
        "def find_riseset(date,obsloc,target):\n",
        "    month,day,year = date[0],date[1],date[2]\n",
        "    noon_cst = Time(str(year)+'-'+str(month).zfill(2)+\\\n",
        "        '-'+str(day).zfill(2)+' 12:00:00',scale='utc') + 6*u.hour\n",
        "    low_time = noon_cst\n",
        "    high_time = noon_cst + 12*u.hour\n",
        "    while (high_time - low_time).sec > 1.0:\n",
        "        mid_time = low_time + (high_time - low_time) / 2\n",
        "        alt_low = target.transform_to(AltAz\\\n",
        "                        (obstime=low_time, location=obsloc)).alt\n",
        "        alt_mid = target.transform_to(AltAz\\\n",
        "                        (obstime=mid_time, location = obsloc)).alt\n",
        "        if alt_low < 0 and alt_mid >= 0:\n",
        "            high_time = mid_time\n",
        "        else:\n",
        "            low_time = mid_time\n",
        "    rise_time1 = low_time - 6*u.hour\n",
        "    set_time1 = high_time - 6*u.hour\n",
        "    low_time = noon_cst - 12*u.hour\n",
        "    high_time = noon_cst\n",
        "    ##do two binary searches to cover the entire day\n",
        "    while (high_time - low_time).sec > 1.0:\n",
        "        mid_time = low_time + (high_time - low_time) / 2\n",
        "        alt_low = target.transform_to(AltAz\\\n",
        "                        (obstime=low_time, location=obsloc)).alt\n",
        "        alt_mid = target.transform_to(AltAz\\\n",
        "                        (obstime=mid_time, location = obsloc)).alt\n",
        "        if alt_low < 0 and alt_mid >= 0:\n",
        "            high_time = mid_time\n",
        "        else:\n",
        "            low_time = mid_time\n",
        "    rise_time2 = low_time - 6*u.hour\n",
        "    set_time2 = high_time - 6*u.hour\n",
        "    print(f'Betelgeuse rise time at \\\n",
        "          {np.minimum(rise_time2,rise_time1)} CST')\n",
        "    print(f'Betelgeuse set time at \\\n",
        "          {np.maximum(set_time2,set_time1)} CST')\n",
        "find_riseset(date,obsloc,target)"
      ]
    },
    {
      "cell_type": "markdown",
      "id": "mU1dvz88ykjC",
      "metadata": {
        "id": "mU1dvz88ykjC"
      },
      "source": [
        "**b)** If you difference two Time objects you get a TimeDelta object that can be directly compared\n",
        "to a\n",
        "float representing a number of seconds, or added to another Time object. So in\n",
        "implementing a binary search you can iterate until the difference between your upper search\n",
        "limit and your lower search limit is less than one second. You can also add one-half the\n",
        "difference to the lower search limit to get the time corresponding to the middle of the range. <br> (10 points)"
      ]
    },
    {
      "cell_type": "code",
      "execution_count": null,
      "id": "pJGm_QbAyq_7",
      "metadata": {
        "id": "pJGm_QbAyq_7"
      },
      "outputs": [],
      "source": [
        "#Code Here\n"
      ]
    },
    {
      "cell_type": "markdown",
      "id": "sQ-hSSioytFz",
      "metadata": {
        "id": "sQ-hSSioytFz"
      },
      "source": [
        "**c)** To determine whether the next iteration of the binary search should search in the range\n",
        "(low, middle) or (middle, high), use the altitude of Betelgeuse at each of the three times.\n",
        "For example, if the altitude is negative for the lower time and positive for the middle time,\n",
        "then the time when the altitude is zero must lie in the (low, middle) interval, and you would\n",
        "set the higher time equal to the middle time for the next iteration.<br>\n",
        "*Evaluate your function for March 4, 2024 and print the rise and set times in a user-friendly\n",
        "format. Express times in our local time zone (ie. CST).* (8 points)"
      ]
    },
    {
      "cell_type": "code",
      "execution_count": null,
      "id": "trAPHH2dyxkD",
      "metadata": {
        "id": "trAPHH2dyxkD"
      },
      "outputs": [],
      "source": [
        "#Code Here"
      ]
    },
    {
      "cell_type": "markdown",
      "id": "HSCezOCS5Rvf",
      "metadata": {
        "id": "HSCezOCS5Rvf"
      },
      "source": [
        "The cell below only works for Google Colab. It does not support other Jupyter notebook environments, such as VSCode or Anaconda. If you choose to use those enviroments, feel free to remove the cell below."
      ]
    },
    {
      "cell_type": "code",
      "execution_count": null,
      "id": "qki2juZC5Qd8",
      "metadata": {
        "id": "qki2juZC5Qd8"
      },
      "outputs": [],
      "source": [
        "%%capture\n",
        "# Here we use a script to generate pdf and save it to google drive.\n",
        "\n",
        "# After executing this cell, you will be asked to link to your GoogleDrive account.\n",
        "# Then, the pdf will be generated and saved to your GoogleDrive account and you need to go there to download;\n",
        "\n",
        "from google.colab import drive\n",
        "drive.mount('/content/drive')\n",
        "# install tex; first run may take several minutes\n",
        "! apt-get install texlive-xetex\n",
        "# file path and save location below are default; please change if they do not match yours\n",
        "! jupyter nbconvert --output-dir='/content/drive/MyDrive/' '/content/drive/MyDrive/Colab Notebooks/HW6_ASTR310.ipynb' --to pdf"
      ]
    }
  ],
  "metadata": {
    "colab": {
      "provenance": []
    },
    "kernelspec": {
      "display_name": "Python 3 (ipykernel)",
      "language": "python",
      "name": "python3"
    },
    "language_info": {
      "codemirror_mode": {
        "name": "ipython",
        "version": 3
      },
      "file_extension": ".py",
      "mimetype": "text/x-python",
      "name": "python",
      "nbconvert_exporter": "python",
      "pygments_lexer": "ipython3",
      "version": "3.11.8"
    }
  },
  "nbformat": 4,
  "nbformat_minor": 5
}
