{
 "cells": [
  {
   "cell_type": "code",
   "execution_count": 90,
   "id": "a0f13d17",
   "metadata": {},
   "outputs": [
    {
     "name": "stdout",
     "output_type": "stream",
     "text": [
      "   x           y           z    \n",
      "   0.00000     0.00000     False     \n",
      "   0.69813     0.26695     False     \n",
      "   1.39626     1.31900     False     \n",
      "   2.09440     1.73169     True      \n",
      "   2.79253     0.58391     False     \n",
      "   3.49066     0.12677     False     \n",
      "   4.18879     2.39913     True      \n",
      "   4.88692     4.87671     True      \n",
      "   5.58505     3.69454     True      \n",
      "   6.28319     0.49055     False     \n"
     ]
    }
   ],
   "source": [
    "import math\n",
    "x = [float]*10\n",
    "for i in range(0,10):\n",
    "    x[i] = i*(2*math.pi/9)\n",
    "y=[float]*10\n",
    "for i in range(0,10):\n",
    "    y[i]=x[i]*math.sin((3*x[i])/math.pi)**2\n",
    "z=[None]*10\n",
    "for i in range(0,10):\n",
    "    if y[i] > 1.5:\n",
    "        z[i] = \"True\"\n",
    "    else :\n",
    "        z[i] = \"False\"\n",
    "xstring = \"   x\"\n",
    "ystring = \"    y\"\n",
    "zstring = \"     z\"\n",
    "print(f\"{xstring:10}\",f\"{ystring:10}\",f\"{zstring:10}\")\n",
    "for i  in range(10):\n",
    "    print(f\"{x[i]:10.5f} \", f\"{y[i]:10.5f}    \", f\"{z[i]:10}\")"
   ]
  },
  {
   "cell_type": "code",
   "execution_count": 112,
   "id": "4e0a8e34",
   "metadata": {},
   "outputs": [
    {
     "name": "stdout",
     "output_type": "stream",
     "text": [
      "   0.00000    0.00000 False     \n",
      "   0.69813    0.26695 False     \n",
      "   1.39626    1.31900 False     \n",
      "   2.09440    1.73169 True      \n",
      "   2.79253    0.58391 False     \n",
      "   3.49066    0.12677 False     \n",
      "   4.18879    2.39913 True      \n",
      "   4.88692    4.87671 True      \n",
      "   5.58505    3.69454 True      \n",
      "   6.28319    0.49055 False     \n"
     ]
    }
   ],
   "source": [
    "f = open(\"table.out\",\"w\")\n",
    "for i in range(0,10):\n",
    "    f.writelines([f\"{x[i]:10.5f}\",\",\",f\"{y[i]:10.5f}\",\",\",f\"{z[i]:10}\\n\"])\n",
    "f = open(\"table.out\",\"r\")\n",
    "a = [float]*10\n",
    "b = [float]*10\n",
    "c = [None]*10\n",
    "lines = f.readlines()\n",
    "index = 0\n",
    "for line in lines:\n",
    "    a[index]=(float(line.split(\",\")[0]))\n",
    "    b[index]=(float(line.split(\",\")[1]))\n",
    "    c[index]=(line.split(\",\")[2][:6].strip())\n",
    "    index+=1\n",
    "for i in range(10):\n",
    "    print(f\"{a[i]:10.5f}\",f\"{b[i]:10.5f}\",f\"{c[i]:10}\")"
   ]
  },
  {
   "cell_type": "code",
   "execution_count": 130,
   "id": "72c57c14",
   "metadata": {},
   "outputs": [
    {
     "name": "stdout",
     "output_type": "stream",
     "text": [
      "Enter a string: Hello, I have fifteen cats.\n",
      "a: 2\n",
      "e: 4\n",
      "i: 1\n",
      "o: 1\n",
      "u: 0\n",
      "Hello, I have 15 cats.\n"
     ]
    }
   ],
   "source": [
    "user = input(\"Enter a string: \")\n",
    "userin = user.lower()\n",
    "acount = user.count('a')\n",
    "ecount = user.count('e')\n",
    "icount = user.count('i')\n",
    "ocount = user.count('o')\n",
    "ucount = user.count('u')\n",
    "print(\"a:\", acount)\n",
    "print(\"e:\", ecount)\n",
    "print(\"i:\", icount)\n",
    "print(\"o:\", ocount)\n",
    "print(\"u:\", ucount)\n",
    "numcount=[\"zero\",\"one\",\"two\",\"three\",\"four\",\"five\",\"six\",\n",
    "           \"seven\",\"eight\",\"nine\",\"ten\",\"eleven\",\"twelve\",\n",
    "           \"thirteen\",\"fourteen\",\"fifteen\",\"sixteen\",\"seventeen\",\n",
    "           \"eighteen\",\"nineteen\"]\n",
    "\n",
    "for i in range(0,20):\n",
    "    user = user.replace(str(numcount[i]),str(i))\n",
    "print(user)"
   ]
  },
  {
   "cell_type": "code",
   "execution_count": 145,
   "id": "9b9a4487",
   "metadata": {},
   "outputs": [
    {
     "name": "stdout",
     "output_type": "stream",
     "text": [
      "Enter an english string: The quick brown fox jumped over the honest dog’s back\n",
      "eThay ickquay ownbray oxfay umpedjay overway ethay honestway og’sday ackbay .\n"
     ]
    }
   ],
   "source": [
    "piguser = input(\"Enter an english string: \")\n",
    "pigsplit = piguser.split()\n",
    "piglatin=\"\"\n",
    "for word in pigsplit:\n",
    "    if word[0] in \"aeiou\" or word[:2] == \"ho\":\n",
    "        word+=\"way\"\n",
    "    elif word[:2] == \"qu\":\n",
    "        word = word[2:]+word[:2]+\"ay\"\n",
    "    else:\n",
    "        for i in range(len(word)):\n",
    "            if word[i] in \"aeiou\":\n",
    "                word = word[i:]+word[:i]+\"ay\"\n",
    "                break\n",
    "    piglatin += word + \" \"\n",
    "\n",
    "piglatin+=\".\"\n",
    "print(piglatin)"
   ]
  },
  {
   "cell_type": "code",
   "execution_count": null,
   "id": "56245d22",
   "metadata": {},
   "outputs": [],
   "source": []
  },
  {
   "cell_type": "code",
   "execution_count": null,
   "id": "728d24c7",
   "metadata": {},
   "outputs": [],
   "source": []
  }
 ],
 "metadata": {
  "kernelspec": {
   "display_name": "Python 3 (ipykernel)",
   "language": "python",
   "name": "python3"
  },
  "language_info": {
   "codemirror_mode": {
    "name": "ipython",
    "version": 3
   },
   "file_extension": ".py",
   "mimetype": "text/x-python",
   "name": "python",
   "nbconvert_exporter": "python",
   "pygments_lexer": "ipython3",
   "version": "3.11.5"
  }
 },
 "nbformat": 4,
 "nbformat_minor": 5
}
