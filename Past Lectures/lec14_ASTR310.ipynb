{
  "cells": [
    {
      "cell_type": "markdown",
      "metadata": {
        "id": "Z68C6sZQ9YPR"
      },
      "source": [
        "## Exercise 1: units and constants  \n",
        "Using Astropy, compute the following quantities. Hints on how to get started are in the reading for today!  \n"
      ]
    },
    {
      "cell_type": "markdown",
      "metadata": {
        "id": "L02jmY729diT"
      },
      "source": [
        "1. The escape velocity (in km/s) of a $2.3 M_{\\odot}$ giant star with a radius of $150 R_{\\odot}$.\n",
        "\n",
        "   $$ v_{esc} = \\sqrt{\\frac{2GM}{R}} $$"
      ]
    },
    {
      "cell_type": "code",
      "execution_count": 13,
      "metadata": {
        "id": "p1e6bv-69X4S"
      },
      "outputs": [
        {
          "name": "stdout",
          "output_type": "stream",
          "text": [
            "76.48532239709606 km / s\n"
          ]
        }
      ],
      "source": [
        "#Code Here\n",
        "import astropy\n",
        "import numpy as np\n",
        "from astropy import units as u\n",
        "from astropy import constants as c\n",
        "M = 2.3*c.M_sun\n",
        "G = c.G\n",
        "R = 150*c.R_sun\n",
        "vesc = np.sqrt((2*G*M)/R).to('km/s')\n",
        "print(vesc)\n"
      ]
    },
    {
      "cell_type": "markdown",
      "metadata": {
        "id": "IjgrSCxEAhm0"
      },
      "source": [
        "2. The wavelength (in angstroms) of the peak of the spectrum of a $11,350 K$ blackbody.\n",
        "\n",
        "   $$ \\lambda_{peak} = \\frac{0.29 \\text{ cm K}}{T} $$"
      ]
    },
    {
      "cell_type": "code",
      "execution_count": 44,
      "metadata": {
        "id": "6sN8PQkwAnCP"
      },
      "outputs": [
        {
          "name": "stdout",
          "output_type": "stream",
          "text": [
            "2555.0660792951535 Angstrom\n"
          ]
        }
      ],
      "source": [
        "#Code Here\n",
        "lam = ((0.29*u.cm*u.K)/(11350*u.K)).to(u.angstrom)\n",
        "print(lam)\n"
      ]
    },
    {
      "cell_type": "markdown",
      "metadata": {
        "id": "SBc3Hr--AoAC"
      },
      "source": [
        "3. The orbital period (in minutes) of a $1 M_{\\odot}$ white dwarf orbiting a $0.6 M_{\\odot}$ white dwarf at a separation of $10^5$ km.\n",
        "\n",
        "   $$ P = 2\\pi \\sqrt{\\frac{a^3}{G(M_1 + M_2)}} $$"
      ]
    },
    {
      "cell_type": "code",
      "execution_count": 36,
      "metadata": {
        "id": "wRqWF1t2AqDq"
      },
      "outputs": [
        {
          "name": "stdout",
          "output_type": "stream",
          "text": [
            "227.2546663682206 min\n"
          ]
        }
      ],
      "source": [
        "#Code Here\n",
        "a = 10E5*u.km\n",
        "g = c.G\n",
        "m1 = 1*c.M_sun\n",
        "m2 = .6*c.M_sun\n",
        "p = (2*np.pi*np.sqrt((a**3)/(g*(m1+m2)))).to(u.minute)\n",
        "print(p)"
      ]
    },
    {
      "cell_type": "markdown",
      "metadata": {
        "id": "v-hfbl-VArLm"
      },
      "source": [
        "4. The Compton wavelength (in fm) of a nickel-56 nucleus, given its rest mass of $52.110 GeV/c^2$.\n",
        "\n",
        "   $$ \\lambda = \\frac{h}{mc} $$"
      ]
    },
    {
      "cell_type": "code",
      "execution_count": 42,
      "metadata": {
        "id": "DlQFFbCJAvkm"
      },
      "outputs": [
        {
          "name": "stdout",
          "output_type": "stream",
          "text": [
            "0.02379278419366729 fm\n"
          ]
        }
      ],
      "source": [
        "#Code Here\n",
        "m = 52.11*u.GeV/c.c**2\n",
        "comp = ((c.h/(m*c.c))).to(u.fm)\n",
        "print(comp)\n"
      ]
    },
    {
      "cell_type": "markdown",
      "metadata": {
        "id": "pkgnP6EdAwnw"
      },
      "source": [
        "5. The distance (in Mpc) to a radio galaxy with a flux density of $8400 Jy$ and a spectral luminosity of $6 \\times 10^{35} \\text{ erg s}^{-1} \\text{ Hz}^{-1}$.\n",
        "\n",
        "   $$ F_{\\nu} = \\frac{L_{\\nu}}{4\\pi d^2} $$"
      ]
    },
    {
      "cell_type": "code",
      "execution_count": 55,
      "metadata": {
        "id": "KzPwV_qtA0Q-"
      },
      "outputs": [
        {
          "name": "stdout",
          "output_type": "stream",
          "text": [
            "244.33208718480088 Mpc\n"
          ]
        }
      ],
      "source": [
        "#Code Here\n",
        "F = 8400*u.jansky\n",
        "L = 6E35*u.erg*(u.s**-1)*(u.Hz**-1)\n",
        "d = (np.sqrt(L/(4*np.pi*F))).to(u.Mpc)\n",
        "print(d)\n",
        "\n"
      ]
    },
    {
      "cell_type": "markdown",
      "metadata": {
        "id": "ZHlYZnUA_EJ6"
      },
      "source": [
        "## Exercise 2: sky coordinate conversions and angles  \n",
        "Using `SkyCoord`, `EarthLocation`, and `Time` objects, perform the following calculations:    \n",
        "- Find the angular distance between the Galactic center ($l = 0^\\circ$, $b = 0^\\circ$ in galactic coordinates) and the globular cluster M13.  \n"
      ]
    },
    {
      "cell_type": "code",
      "execution_count": 77,
      "metadata": {
        "id": "rnNbqz8Q9Wzx"
      },
      "outputs": [
        {
          "name": "stdout",
          "output_type": "stream",
          "text": [
            "67d06m01.56474452s\n"
          ]
        }
      ],
      "source": [
        "#Code Here\n",
        "from astropy.coordinates import SkyCoord as sky\n",
        "from astropy.coordinates import EarthLocation as earthloc\n",
        "from astropy import coordinates as coord\n",
        "from astropy.time import Time as Time \n",
        "\n",
        "glob = sky.from_name(\"M13\",frame=\"galactic\")\n",
        "cent = sky(0*u.deg,0*u.deg,frame=\"galactic\")\n",
        "print(glob.separation(cent))\n",
        "\n"
      ]
    },
    {
      "cell_type": "markdown",
      "metadata": {
        "id": "-5ALYPJf_zN-"
      },
      "source": [
        "- Find the angular distance between Venus and the Sun on February 29, 2024 at 23:00 UTC (i.e. “2024-02-29T23:00:00”). Use the `astropy.coordinates.get_body()` method to get sky coordinates for Solar System bodies at a given time.  "
      ]
    },
    {
      "cell_type": "code",
      "execution_count": 84,
      "metadata": {
        "id": "niBYmpHm_1j2"
      },
      "outputs": [
        {
          "name": "stdout",
          "output_type": "stream",
          "text": [
            "24d24m56.51528799s\n"
          ]
        }
      ],
      "source": [
        "#Code Here\n",
        "obs = Time(\"2024-02-29T23:00:00\")\n",
        "ven = coord.get_body(\"Venus\",obs)\n",
        "sep = ven.separation(coord.get_body(\"Sun\",obs))\n",
        "print(sep)"
      ]
    },
    {
      "cell_type": "markdown",
      "metadata": {
        "id": "9YuVVwXo_201"
      },
      "source": [
        "- Create an altitude-azimuth coordinate frame object (`AltAz`) corresponding to the location of the ALMA Observatory at the same time as above. Create a `SkyCoord` object corresponding to the sky position of the Large Magellanic Cloud (RA 05h23m34.5s, Dec $-69^\\circ45'22''$ in the `icrs` frame). Finally, using the `SkyCoord` object’s `transform_to` method, find its representation in the alt-az frame you created. This will give the altitude and azimuth of the LMC at ALMA this evening at 8 pm local time.  "
      ]
    },
    {
      "cell_type": "code",
      "execution_count": 104,
      "metadata": {
        "id": "S-nifBFi_58G"
      },
      "outputs": [
        {
          "name": "stdout",
          "output_type": "stream",
          "text": [
            "43d13m07.01508595s 177d55m56.58408312s\n"
          ]
        }
      ],
      "source": [
        "#Code Here\n",
        "ALMA = earthloc.of_site(\"ALMA\")\n",
        "\n",
        "target = sky(\"05h23m34.5s\", \"-69d45m22s\",frame=coord.ICRS)\n",
        "altazobj = target.transform_to(coord.AltAz(location = ALMA,obstime=obs))\n",
        "\n",
        "print(altazobj.alt,altazobj.az)\n"
      ]
    }
  ],
  "metadata": {
    "colab": {
      "provenance": []
    },
    "kernelspec": {
      "display_name": "Python 3",
      "name": "python3"
    },
    "language_info": {
      "codemirror_mode": {
        "name": "ipython",
        "version": 3
      },
      "file_extension": ".py",
      "mimetype": "text/x-python",
      "name": "python",
      "nbconvert_exporter": "python",
      "pygments_lexer": "ipython3",
      "version": "3.11.8"
    }
  },
  "nbformat": 4,
  "nbformat_minor": 0
}
