{
 "cells": [
  {
   "cell_type": "markdown",
   "metadata": {
    "id": "ALoCi5n9DCRM"
   },
   "source": [
    "# Exercise 1: Euclid’s Algorithm (Total: 12 points)\n",
    "\n",
    "Euclid’s algorithm finds the greatest common divisor (gcd) of two integers $a$ and $b$. The procedure is as follows: beginning with $r_{-1}$ = $a$ and $r_0$ = $b$, choose successive values\n",
    "\n",
    "$r_{k+1}$ = $r_{k-1}$ mod $r_k$; $k$ = 0,...\n",
    "\n",
    "until for some $k$ = $N$ you find $r_N$ = $0$. The gcd of $a$ and $b$ is then $r_{N-1}$.\n",
    "\n",
    "Write a Python function to compute the gcd of two numbers. Ensure that you begin the iteration with integers (i.e. by casting floats to integer).\n",
    "\n",
    "Test your function on the pairs:\n",
    "\n",
    "- `gcd(35, 42)` = 7\n",
    "- `gcd(1071, 462)` = 21\n",
    "- `gcd(2232, 5952)` = 744\n",
    "- `gcd(6831, 15384)` = 3\n",
    "\n"
   ]
  },
  {
   "cell_type": "code",
   "execution_count": 2,
   "metadata": {
    "id": "I-qqBxlLBJ_m"
   },
   "outputs": [
    {
     "name": "stdout",
     "output_type": "stream",
     "text": [
      "7\n",
      "21\n",
      "744\n",
      "3\n"
     ]
    }
   ],
   "source": [
    "#Code Here\n",
    "import math\n",
    "def gcd(a,b):\n",
    "    x = a\n",
    "    y = b\n",
    "    while (y > 0):\n",
    "        r = x%y\n",
    "        x = y\n",
    "        y = r\n",
    "    return x\n",
    "print(gcd(35,42))\n",
    "print(gcd(1071,462))\n",
    "print(gcd(2232,5952))\n",
    "print(gcd(6831,15384))"
   ]
  },
  {
   "cell_type": "markdown",
   "metadata": {
    "id": "AqCfR9WSEAcT"
   },
   "source": [
    "# Exercise 2: Optional Arguments and Multiple Return Values (Total: 8 points)\n",
    "\n",
    "Write a Python function that will take a list of numbers and return various statistics. The function should take one required argument (the list of numbers) and one optional argument (a tuple or list of strings naming the statistics to compute). The default value for the optional argument should be `(\"mean\", )`. The allowed strings are (assuming the `N` elements of the supplied list are $L_i$):\n",
    "\n",
    "- `\"mean\"` return the mean value of the list\n",
    "- `\"sum\"` return the sum of the list values\n",
    "- `\"rms\"` return the root-mean-square, i.e. $sqrt$(1/N * sum($L_i^2$ for $i$ in range($N$)))\n",
    "- `\"max\"` return the maximum\n",
    "- `\"min\"` return the minimum\n",
    "\n",
    "The return value should be a tuple containing the requested statistics in the same order as they appear in the request tuple.\n",
    "\n",
    "Test your function on the list:\n",
    "\n",
    "`[-34.2, 17.1, 3.8, 1.4, 22.6, 19.4, 15.9]`\n",
    "\n",
    "with different combinations of requested statistics (or no request)."
   ]
  },
  {
   "cell_type": "code",
   "execution_count": 14,
   "metadata": {
    "id": "r-a9C0XyEg77"
   },
   "outputs": [
    {
     "name": "stdout",
     "output_type": "stream",
     "text": [
      "(6.571428571428571, 46.0, 19.340483078617392, 22.6, -34.2)\n",
      "(6.571428571428571,)\n",
      "(46.0, 22.6, -34.2)\n"
     ]
    }
   ],
   "source": [
    "#Code Here\n",
    "def stats(L,C = (\"mean\",) ):\n",
    "    R = []\n",
    "\n",
    "    if (\"mean\" in C):\n",
    "        mean = sum(L)/len(L)\n",
    "        R.append(mean)\n",
    "    if (\"sum\" in C):\n",
    "        R.append(sum(L))\n",
    "    if (\"rms\" in C):\n",
    "        sumlist = 0\n",
    "        for i in range (len(L)):\n",
    "            sumlist+=L[i]**2\n",
    "        rms = math.sqrt(1/len(L)*sumlist)\n",
    "        R.append(rms)\n",
    "    if (\"max\" in C):\n",
    "        lmax = L[0]\n",
    "        for i in range(len(L)):\n",
    "            if L[i] > lmax: lmax = L[i]\n",
    "        R.append(lmax)\n",
    "    if (\"min\" in C):\n",
    "        lmin = L[0]\n",
    "        for i in range(len(L)):\n",
    "            if L[i] < lmin: lmin = L[i]\n",
    "        R.append(lmin)\n",
    "    TR = tuple(R)\n",
    "    return TR\n",
    "\n",
    "List = [-34.2,17.1,3.8,1.4,22.6,19.4,15.9]\n",
    "C1 = (\"mean\", \"sum\", \"rms\", \"max\", \"min\")\n",
    "C3 = (\"sum\", \"max\",\"min\")\n",
    "print (stats(List,C1))\n",
    "print (stats(List))\n",
    "print (stats(List,C3))"
   ]
  },
  {
   "cell_type": "code",
   "execution_count": 28,
   "metadata": {
    "id": "1uWZ5H7IEr0N"
   },
   "outputs": [
    {
     "ename": "ModuleNotFoundError",
     "evalue": "No module named 'google.colab'",
     "output_type": "error",
     "traceback": [
      "\u001b[1;31m---------------------------------------------------------------------------\u001b[0m",
      "\u001b[1;31mModuleNotFoundError\u001b[0m                       Traceback (most recent call last)",
      "Cell \u001b[1;32mIn[28], line 7\u001b[0m\n\u001b[0;32m      5\u001b[0m get_ipython()\u001b[38;5;241m.\u001b[39msystem(\u001b[38;5;124m'\u001b[39m\u001b[38;5;124m pip install google-cloud\u001b[39m\u001b[38;5;124m'\u001b[39m)\n\u001b[0;32m      6\u001b[0m get_ipython()\u001b[38;5;241m.\u001b[39msystem(\u001b[38;5;124m'\u001b[39m\u001b[38;5;124m pip install google-cloud-vision\u001b[39m\u001b[38;5;124m'\u001b[39m)\n\u001b[1;32m----> 7\u001b[0m \u001b[38;5;28;01mfrom\u001b[39;00m \u001b[38;5;21;01mgoogle\u001b[39;00m\u001b[38;5;21;01m.\u001b[39;00m\u001b[38;5;21;01mcolab\u001b[39;00m \u001b[38;5;28;01mimport\u001b[39;00m drive\n\u001b[0;32m      8\u001b[0m drive\u001b[38;5;241m.\u001b[39mmount(\u001b[38;5;124m'\u001b[39m\u001b[38;5;124m/content/drive\u001b[39m\u001b[38;5;124m'\u001b[39m)\n\u001b[0;32m      9\u001b[0m \u001b[38;5;66;03m# install tex; first run may take several minutes\u001b[39;00m\n",
      "\u001b[1;31mModuleNotFoundError\u001b[0m: No module named 'google.colab'"
     ]
    }
   ],
   "source": [
    "%%capture\n",
    "# Here we use a script to generate pdf and save it to google drive.\n",
    "\n",
    "# After executing this cell, you will be asked to link to your GoogleDrive account.\n",
    "# Then, the pdf will be generated and saved to your GoogleDrive account and you need to go there to download;\n",
    "! pip install google-cloud\n",
    "! pip install google-cloud-vision\n",
    "from google.colab import drive\n",
    "drive.mount('/content/drive')\n",
    "# install tex; first run may take several minutes\n",
    "! apt-get install texlive-xetex\n",
    "# file path and save location below are default; please change if they do not match yours\n",
    "! jupyter nbconvert --output-dir='/content/drive/MyDrive/' '/content/drive/MyDrive/Colab Notebooks/lec09_ASTR.ipynb' --to pdf"
   ]
  }
 ],
 "metadata": {
  "colab": {
   "provenance": []
  },
  "kernelspec": {
   "display_name": "Python 3 (ipykernel)",
   "language": "python",
   "name": "python3"
  },
  "language_info": {
   "codemirror_mode": {
    "name": "ipython",
    "version": 3
   },
   "file_extension": ".py",
   "mimetype": "text/x-python",
   "name": "python",
   "nbconvert_exporter": "python",
   "pygments_lexer": "ipython3",
   "version": "3.11.8"
  }
 },
 "nbformat": 4,
 "nbformat_minor": 1
}
