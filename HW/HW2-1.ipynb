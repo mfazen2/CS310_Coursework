{
 "cells": [
  {
   "cell_type": "markdown",
   "id": "e72b1f1b",
   "metadata": {},
   "source": [
    "## Homework 2\n",
    "\n",
    "**name: Maxwell Fazen**\n",
    "\n",
    "**net id: mfazen2**\n",
    "\n",
    "***due Monday February 5 2024***"
   ]
  },
  {
   "cell_type": "markdown",
   "id": "961afdc4",
   "metadata": {},
   "source": [
    "**Problem 1)**  \n",
    "**Python code fragments (20 points, 2 points each)**\n",
    "\n",
    "(a) State in words what each of these Python code fragments does. As a reminder, you should do this yourself without using a code explainer or other AI tool. Feel free to execute the code and see what it does."
   ]
  },
  {
   "cell_type": "code",
   "execution_count": 2,
   "id": "d4b6ee5c",
   "metadata": {},
   "outputs": [
    {
     "name": "stdout",
     "output_type": "stream",
     "text": [
      "x comp =  34.897  y comp =  1229.800609\n"
     ]
    }
   ],
   "source": [
    "#i)\n",
    "xcomp = 34.897\n",
    "ycomp = xcomp**2 + 12.\n",
    "print(\"x comp = \", xcomp, \" y comp = \", ycomp)"
   ]
  },
  {
   "cell_type": "markdown",
   "id": "dba075a8",
   "metadata": {},
   "source": [
    "**answer:The code fails due to invalid syntax with the x and y component variable names. After fixing, the code assigns xcomp a value of 34.897 and assigns ycomp the square of the xcomp value plus twelve, then prints out the values.**"
   ]
  },
  {
   "cell_type": "code",
   "execution_count": 3,
   "id": "f149be64",
   "metadata": {},
   "outputs": [
    {
     "ename": "NameError",
     "evalue": "name 'A' is not defined",
     "output_type": "error",
     "traceback": [
      "\u001b[0;31m---------------------------------------------------------------------------\u001b[0m",
      "\u001b[0;31mNameError\u001b[0m                                 Traceback (most recent call last)",
      "Cell \u001b[0;32mIn[3], line 2\u001b[0m\n\u001b[1;32m      1\u001b[0m \u001b[38;5;66;03m#ii)\u001b[39;00m\n\u001b[0;32m----> 2\u001b[0m tmp \u001b[38;5;241m=\u001b[39m A\n\u001b[1;32m      3\u001b[0m A \u001b[38;5;241m=\u001b[39m B\n\u001b[1;32m      4\u001b[0m B \u001b[38;5;241m=\u001b[39m tmp\n",
      "\u001b[0;31mNameError\u001b[0m: name 'A' is not defined"
     ]
    }
   ],
   "source": [
    "#ii)\n",
    "tmp = A\n",
    "A = B\n",
    "B = tmp"
   ]
  },
  {
   "cell_type": "markdown",
   "id": "37a6ed40",
   "metadata": {},
   "source": [
    "**answer: The code fails because none of the variables are ever initialized. If A and B were assigned values, then the code would set tmp to equal the value of A, then A to equal the value of B, then B the value of temp (A).**"
   ]
  },
  {
   "cell_type": "code",
   "execution_count": 10,
   "id": "dbe1c5ee",
   "metadata": {},
   "outputs": [
    {
     "name": "stdout",
     "output_type": "stream",
     "text": [
      "2j\n",
      "(1.4978661367769956+2.677945044588987j)\n"
     ]
    }
   ],
   "source": [
    "#iii)\n",
    "from cmath import log\n",
    "z = -4 + 2j\n",
    "print(2j)\n",
    "print((log(z)).imag)"
   ]
  },
  {
   "cell_type": "markdown",
   "id": "25a0ff05",
   "metadata": {},
   "source": [
    "**answer The code assigns z a value of -4 + 2j, then prints the imaginary section of its log (2j).**"
   ]
  },
  {
   "cell_type": "code",
   "execution_count": 12,
   "id": "9406779e",
   "metadata": {},
   "outputs": [
    {
     "name": "stdout",
     "output_type": "stream",
     "text": [
      "10.889999999999999\n"
     ]
    }
   ],
   "source": [
    "#iv)\n",
    "q = s = 3.3\n",
    "q = s * q\n",
    "print(q)"
   ]
  },
  {
   "cell_type": "markdown",
   "id": "4387e28d",
   "metadata": {},
   "source": [
    "**answer The code assigns q and s the same values, then changes the value of q to be q times s.**"
   ]
  },
  {
   "cell_type": "code",
   "execution_count": 14,
   "id": "968e20b0",
   "metadata": {},
   "outputs": [
    {
     "name": "stdout",
     "output_type": "stream",
     "text": [
      "enter a value: 9\n",
      "True\n"
     ]
    }
   ],
   "source": [
    "#v)\n",
    "s = float(input(\"enter a value: \"))\n",
    "print((s % 2) == 1)"
   ]
  },
  {
   "cell_type": "markdown",
   "id": "b4b23edd",
   "metadata": {},
   "source": [
    "**answer The code takes input from the user, then prints whether the value is odd, i.e. if the value modulus 2 equals 1.**"
   ]
  },
  {
   "cell_type": "markdown",
   "id": "cfb5510e",
   "metadata": {},
   "source": [
    "(b) Explain why each of the following broken Python statements is broken. Again, don’t\n",
    "use a code explainer or other AI tool. Feel free to try executing the code and see\n",
    "what happens, but your answer will need a little more detail than just repeating the\n",
    "error messages"
   ]
  },
  {
   "cell_type": "code",
   "execution_count": 13,
   "id": "d1153b2b",
   "metadata": {},
   "outputs": [
    {
     "ename": "SyntaxError",
     "evalue": "unmatched ')' (4073412169.py, line 2)",
     "output_type": "error",
     "traceback": [
      "\u001b[0;36m  Cell \u001b[0;32mIn[13], line 2\u001b[0;36m\u001b[0m\n\u001b[0;31m    R = ((x-3.231)**2 + (y-7.325))**2)**0.5\u001b[0m\n\u001b[0m                                     ^\u001b[0m\n\u001b[0;31mSyntaxError\u001b[0m\u001b[0;31m:\u001b[0m unmatched ')'\n"
     ]
    }
   ],
   "source": [
    "#i) \n",
    "R = ((x-3.231)**2 + (y-7.325))**2)**0.5"
   ]
  },
  {
   "cell_type": "markdown",
   "id": "ff6bc667",
   "metadata": {},
   "source": [
    "**answer The code is missing an open parentheses on the left side of the definition.**"
   ]
  },
  {
   "cell_type": "code",
   "execution_count": 15,
   "id": "a3f232a8",
   "metadata": {},
   "outputs": [
    {
     "ename": "TypeError",
     "evalue": "can only concatenate str (not \"float\") to str",
     "output_type": "error",
     "traceback": [
      "\u001b[0;31m---------------------------------------------------------------------------\u001b[0m",
      "\u001b[0;31mTypeError\u001b[0m                                 Traceback (most recent call last)",
      "Cell \u001b[0;32mIn[15], line 2\u001b[0m\n\u001b[1;32m      1\u001b[0m \u001b[38;5;66;03m#ii)\u001b[39;00m\n\u001b[0;32m----> 2\u001b[0m \u001b[38;5;28mprint\u001b[39m(\u001b[38;5;124m\"\u001b[39m\u001b[38;5;124mthe result is \u001b[39m\u001b[38;5;124m\"\u001b[39m \u001b[38;5;241m+\u001b[39m \u001b[38;5;241m17.1\u001b[39m)\n",
      "\u001b[0;31mTypeError\u001b[0m: can only concatenate str (not \"float\") to str"
     ]
    }
   ],
   "source": [
    "#ii)\n",
    "print(\"the result is \" + 17.1)"
   ]
  },
  {
   "cell_type": "markdown",
   "id": "ae783296",
   "metadata": {},
   "source": [
    "**answer The code uses improper syntax for string concatenation, for non string values you must separate them with a comma.**"
   ]
  },
  {
   "cell_type": "code",
   "execution_count": 16,
   "id": "683bdf0a",
   "metadata": {},
   "outputs": [
    {
     "ename": "NameError",
     "evalue": "name 'result' is not defined",
     "output_type": "error",
     "traceback": [
      "\u001b[0;31m---------------------------------------------------------------------------\u001b[0m",
      "\u001b[0;31mNameError\u001b[0m                                 Traceback (most recent call last)",
      "Cell \u001b[0;32mIn[16], line 2\u001b[0m\n\u001b[1;32m      1\u001b[0m \u001b[38;5;66;03m#iii)\u001b[39;00m\n\u001b[0;32m----> 2\u001b[0m result\n",
      "\u001b[0;31mNameError\u001b[0m: name 'result' is not defined"
     ]
    }
   ],
   "source": [
    "#iii)\n",
    "result#2 = 6.4*sin(13.8*pi*omega) - 4.8"
   ]
  },
  {
   "cell_type": "markdown",
   "id": "0468b61d",
   "metadata": {},
   "source": [
    "**answer The coder mistakenly commented out the definition of \"result\" when indicating that the result was \"#2\", the # is a comment signal.**"
   ]
  },
  {
   "cell_type": "code",
   "execution_count": 23,
   "id": "2d526635",
   "metadata": {},
   "outputs": [
    {
     "name": "stdout",
     "output_type": "stream",
     "text": [
      "0 1\n",
      "1 2\n",
      "2 5\n",
      "3 10\n",
      "4 17\n",
      "5 26\n",
      "6 37\n",
      "7 50\n",
      "8 65\n",
      "9 82\n",
      "10 101\n",
      "11 122\n",
      "12 145\n"
     ]
    }
   ],
   "source": [
    "#iv)\n",
    "for i in range(13):\n",
    "    j = i**2 + 1\n",
    "    print(i, j)"
   ]
  },
  {
   "cell_type": "markdown",
   "id": "06c7daf9",
   "metadata": {},
   "source": [
    "**answer The print line should be in line with the line above.**"
   ]
  },
  {
   "cell_type": "code",
   "execution_count": 31,
   "id": "36b36a8f",
   "metadata": {},
   "outputs": [
    {
     "name": "stdout",
     "output_type": "stream",
     "text": [
      "enter length in cm: 9\n"
     ]
    }
   ],
   "source": [
    "#v)\n",
    "length_in_inches = 2.54 * input(\"enter length in cm: \")"
   ]
  },
  {
   "cell_type": "markdown",
   "id": "aebdf6b7",
   "metadata": {},
   "source": [
    "**answer The value of 2.54 is a float, and since the input value is a string, python is unsure what the final value should be, casting the input to a float may fix the issue.**"
   ]
  },
  {
   "cell_type": "markdown",
   "id": "9892558f",
   "metadata": {},
   "source": [
    "**Writing a Python program that works with user input and calculates something (30 points, check individual question for point distribution)** \n",
    "\n",
    "In Big Bang cosmology the expansion of the Universe changes the relationship between the apparent angular size of a distant object and its real physical size. Normally in a non-expanding spacetime, a distant object of physical size \\$( L \\$) at a distance \\$( d \\$) subtends an angle \\$( \\theta \\approx \\frac{L}{d} \\$) (in radians; approximate because of the small angle approximation).\n",
    "In an expanding universe this relationship does not hold, but we can define a quantity called the \"angular diameter distance\" \\$( d_A \\$) such that \\$( \\theta = \\frac{L}{d_A} \\$) or \\$( L = d_A \\cdot \\theta \\$). The angular diameter distance is a function of cosmological parameters such as the rate of expansion and the matter content of the Universe as well as the redshift (a measure of the amount that the wavelength of light gets stretched out by the expansion). In this problem we'll fix the value of \\( \\theta = 1'' \\), so \\$( d_A \\$) can be thought of as a conversion factor between angle in arcseconds (\\$( '' \\$)) and size in kiloparsecs (kpc \\$( = 3.0857 \\times 10^{21} \\$) cm).\n"
   ]
  },
  {
   "cell_type": "markdown",
   "id": "cc0e44dc",
   "metadata": {},
   "source": [
    "(a) Write a Python program that obtains from the user the value of the Hubble constant (units \\$( \\text{km s}^{-1} \\text{Mpc}^{-1} \\$)\n",
    "), the matter density parameter \\$( \\Omega_m \\$) (dimensionless), and a redshift \\$( z \\$) (also dimensionless). Your code should then compute and print the conversion between arcseconds and kpc, i.e. the angular diameter distance, for a flat cosmology at this redshift. Have your program print the result with a friendly message such as \"The conversion factor is X.XXX kpc/arcsec\".\n",
    "\n",
    "Use vanilla Python for this problem, no fancy stuff like astropy.units. (We’ll get to that before long.)\n",
    "\n",
    "An approximate analytical fit to the angular diameter distance for a flat cosmology is given by Pen, U.-L. (1999, ApJS, 120, 49):\n",
    "\n",
    "\\$[ d_A = \\frac{1}{1 + z} \\frac{c}{H_0} \\left[ \\eta(1, \\Omega_m) - \\eta\\left(\\frac{1}{1 + z}, \\Omega_m\\right) \\right] \\$]\n",
    "\n",
    "where\n",
    "\n",
    "\\$[ \\eta(a, \\Omega_m) = 2\\sqrt{s^3 + 1} \\left[ \\frac{1}{a^4} - 0.1540 \\frac{s}{a^3} + 0.4304 \\frac{s^2}{a^2} + 0.19097 \\frac{s^3}{a} + 0.066941s^4 \\right]^{-\\frac{1}{8}} \\$]\n",
    "\n",
    "and\n",
    "\n",
    "\\$[ s^3 = \\frac{1 - \\Omega_m}{\\Omega_m}. \\$]\n",
    "\n",
    "Watch the unit conversions. Recall that \\$( c \\$) has units of length/time and \\$( H_0 \\$) has units of 1/time, so \\$( d_A \\$) will come out with native units of length/radian and you can convert that to kpc/arcsec.\n"
   ]
  },
  {
   "cell_type": "code",
   "execution_count": 22,
   "id": "58b17aa6",
   "metadata": {},
   "outputs": [
    {
     "name": "stdout",
     "output_type": "stream",
     "text": [
      "Enter a value for the Hubble Constant: 72\n",
      "Enter a value for the matter density parameter: .26\n",
      "Enter a redshift value: .5\n",
      "The conversion factor is  6.041251136076933\n"
     ]
    }
   ],
   "source": [
    "##Code here (20 points)\n",
    "import math\n",
    "H = int(input(\"Enter a value for the Hubble Constant: \"))\n",
    "H = H / (3.086*10**19)\n",
    "Q = float(input(\"Enter a value for the matter density parameter: \"))\n",
    "Z = float(input(\"Enter a redshift value: \"))\n",
    "s = ((1-Q)/Q)**(1/3)\n",
    "c = 3*10**8 #speed of light in km/s\n",
    "def n(a,q):\n",
    "    return ((2*math.sqrt((s**3)+1))*((1/(a**4))-.1540*(s/(a**3))+.4304*((s**2)/(a**2))\n",
    "                                     +.19097*((s**3)/a)+.066941*(s**4))**(-1/8))\n",
    "def da():\n",
    "    return (1/(1+Z))*(c/H)*(n(1,Q) - n((1/(1+Z)),Q))\n",
    "\n",
    "print(\"The conversion factor is \",da()*((3.24078*(10**-20))/206264.806),\"kpc/arcsec\")"
   ]
  },
  {
   "cell_type": "markdown",
   "id": "05917dc5",
   "metadata": {},
   "source": [
    "(b) Run your program for \\$( H_0 = 72 \\, \\text{km s}^{-1} \\text{Mpc}^{-1} \\$) and \\$( \\Omega_m = 0.26 \\$), for redshifts 0.5 and 1.0. You should get \\$( 6.041 \\, \\text{kpc/arcsec} \\$) and \\$( 7.996 \\, \\text{kpc/arcsec} \\$) as answers (both less than $0.4\\$% in error).\n"
   ]
  },
  {
   "cell_type": "code",
   "execution_count": 32,
   "id": "d1257490",
   "metadata": {},
   "outputs": [
    {
     "name": "stdout",
     "output_type": "stream",
     "text": [
      "Enter a value for the Hubble Constant: 72\n",
      "Enter a value for the matter density parameter: .26\n",
      "Enter a redshift value: 1\n",
      "The conversion factor is  7.996516591122931 kpc/arcsec\n"
     ]
    }
   ],
   "source": [
    "#Code here (4 points)\n",
    "import math\n",
    "H = int(input(\"Enter a value for the Hubble Constant: \"))\n",
    "H = H / (3.086*10**19)\n",
    "Q = float(input(\"Enter a value for the matter density parameter: \"))\n",
    "Z = float(input(\"Enter a redshift value: \"))\n",
    "s = ((1-Q)/Q)**(1/3)\n",
    "c = 3*10**8 #speed of light in km/s\n",
    "def n(a,q):\n",
    "    return ((2*math.sqrt((s**3)+1))*((1/(a**4))-.1540*(s/(a**3))+.4304*((s**2)/(a**2))\n",
    "                                     +.19097*((s**3)/a)+.066941*(s**4))**(-1/8))\n",
    "def da():\n",
    "    return (1/(1+Z))*(c/H)*(n(1,Q) - n((1/(1+Z)),Q))\n",
    "\n",
    "print(\"The conversion factor is \",da()*((3.24078*(10**-20))/206264.806),\"kpc/arcsec\")"
   ]
  },
  {
   "cell_type": "markdown",
   "id": "fe209d3b",
   "metadata": {},
   "source": [
    "(c) Try the same cosmological parameters for redshifts of 2.0 and 4.0. Notice that the conversion factor increases with redshift for a while and then decreases! In other words, objects that are more and more distant appear smaller and smaller, and then at some point they begin to look larger again. Weird. If you like you can plot the conversion factor as a function of redshift, but that's not required at this point.\n"
   ]
  },
  {
   "cell_type": "code",
   "execution_count": 24,
   "id": "bbc2c639",
   "metadata": {},
   "outputs": [
    {
     "name": "stdout",
     "output_type": "stream",
     "text": [
      "Enter a value for the Hubble Constant: 72\n",
      "Enter a value for the matter density parameter: .26\n",
      "Enter a redshift value: 2\n",
      "The conversion factor is  8.440062647554262 kpc/arcsec\n"
     ]
    }
   ],
   "source": [
    "#Code here (3 points)\n",
    "import math\n",
    "H = int(input(\"Enter a value for the Hubble Constant: \"))\n",
    "H = H / (3.086*10**19)\n",
    "Q = float(input(\"Enter a value for the matter density parameter: \"))\n",
    "Z = float(input(\"Enter a redshift value: \"))\n",
    "s = ((1-Q)/Q)**(1/3)\n",
    "c = 3*10**8 #speed of light in km/s\n",
    "def n(a,q):\n",
    "    return ((2*math.sqrt((s**3)+1))*((1/(a**4))-.1540*(s/(a**3))+.4304*((s**2)/(a**2))\n",
    "                                     +.19097*((s**3)/a)+.066941*(s**4))**(-1/8))\n",
    "def da():\n",
    "    return (1/(1+Z))*(c/H)*(n(1,Q) - n((1/(1+Z)),Q))\n",
    "\n",
    "print(\"The conversion factor is \",da()*((3.24078*(10**-20))/206264.806),\"kpc/arcsec\")"
   ]
  },
  {
   "cell_type": "code",
   "execution_count": 25,
   "id": "6b8046da",
   "metadata": {},
   "outputs": [
    {
     "name": "stdout",
     "output_type": "stream",
     "text": [
      "Enter a value for the Hubble Constant: 72\n",
      "Enter a value for the matter density parameter: .26\n",
      "Enter a redshift value: 4\n",
      "The conversion factor is  7.070548885053796 kpc/arcsec\n"
     ]
    }
   ],
   "source": [
    "import math\n",
    "H = int(input(\"Enter a value for the Hubble Constant: \"))\n",
    "H = H / (3.086*10**19)\n",
    "Q = float(input(\"Enter a value for the matter density parameter: \"))\n",
    "Z = float(input(\"Enter a redshift value: \"))\n",
    "s = ((1-Q)/Q)**(1/3)\n",
    "c = 3*10**8 #speed of light in km/s\n",
    "def n(a,q):\n",
    "    return ((2*math.sqrt((s**3)+1))*((1/(a**4))-.1540*(s/(a**3))+.4304*((s**2)/(a**2))\n",
    "                                     +.19097*((s**3)/a)+.066941*(s**4))**(-1/8))\n",
    "def da():\n",
    "    return (1/(1+Z))*(c/H)*(n(1,Q) - n((1/(1+Z)),Q))\n",
    "\n",
    "print(\"The conversion factor is \",da()*((3.24078*(10**-20))/206264.806),\"kpc/arcsec\")"
   ]
  },
  {
   "cell_type": "markdown",
   "id": "ca76f2c4",
   "metadata": {},
   "source": [
    "(d) You're writing a proposal to the ALMA telescope, to study a galaxy at a redshift of 0.5. If the telescope gives you 0.4\" resolution, what's the linear size (in kpc) corresponding to that resolution? You can stick with the cosmological parameters noted above, as they are fairly standard and will not surprise or shock any of your readers.\n"
   ]
  },
  {
   "cell_type": "code",
   "execution_count": 26,
   "id": "1887ce22",
   "metadata": {},
   "outputs": [
    {
     "name": "stdout",
     "output_type": "stream",
     "text": [
      "Enter a value for the Hubble Constant: 72\n",
      "Enter a value for the matter density parameter: .26\n",
      "Enter a redshift value: .5\n",
      "The linear size is 2.416500454430773 kpc\n"
     ]
    }
   ],
   "source": [
    "#Code here (3 points)\n",
    "import math\n",
    "H = int(input(\"Enter a value for the Hubble Constant: \"))\n",
    "H = H / (3.086*10**19)\n",
    "Q = float(input(\"Enter a value for the matter density parameter: \"))\n",
    "Z = float(input(\"Enter a redshift value: \"))\n",
    "s = ((1-Q)/Q)**(1/3)\n",
    "c = 3*10**8 #speed of light in km/s\n",
    "def n(a,q):\n",
    "    return ((2*math.sqrt((s**3)+1))*((1/(a**4))-.1540*(s/(a**3))+.4304*((s**2)/(a**2))\n",
    "                                     +.19097*((s**3)/a)+.066941*(s**4))**(-1/8))\n",
    "def da():\n",
    "    return (1/(1+Z))*(c/H)*(n(1,Q) - n((1/(1+Z)),Q))\n",
    "\n",
    "print(\"The linear size is\",da()*((3.24078*(10**-20))/206264.806)*.4,\"kpc\")"
   ]
  },
  {
   "cell_type": "code",
   "execution_count": null,
   "id": "941dcd3f",
   "metadata": {},
   "outputs": [],
   "source": []
  }
 ],
 "metadata": {
  "kernelspec": {
   "display_name": "Python 3 (ipykernel)",
   "language": "python",
   "name": "python3"
  },
  "language_info": {
   "codemirror_mode": {
    "name": "ipython",
    "version": 3
   },
   "file_extension": ".py",
   "mimetype": "text/x-python",
   "name": "python",
   "nbconvert_exporter": "python",
   "pygments_lexer": "ipython3",
   "version": "3.11.0"
  }
 },
 "nbformat": 4,
 "nbformat_minor": 5
}
