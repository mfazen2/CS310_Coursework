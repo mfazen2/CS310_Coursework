{
 "cells": [
  {
   "cell_type": "code",
   "execution_count": 40,
   "id": "3687d101",
   "metadata": {},
   "outputs": [
    {
     "name": "stdout",
     "output_type": "stream",
     "text": [
      "Zerocount: 533\n",
      "Sum is: 499533\n"
     ]
    }
   ],
   "source": [
    "L=[None]*1000\n",
    "for i in range(0,1000,+1):\n",
    "    L[i] = 1\n",
    "zerocount = 1000\n",
    "for i in range(0,1000,+1):\n",
    "    if (i % 5 == 0 or i % 3 == 0):\n",
    "        L[i] = 0\n",
    "        zerocount-=1;\n",
    "print(\"Zerocount:\",zerocount)\n",
    "M=[None]*500\n",
    "for i in range (0,500,+1):\n",
    "    M[i] = (i)*4\n",
    "M.extend(L)\n",
    "sum = 0\n",
    "for i in range(len(M)):\n",
    "    sum+=M[i]\n",
    "print(\"Sum is:\",sum)"
   ]
  },
  {
   "cell_type": "code",
   "execution_count": 54,
   "id": "64989148",
   "metadata": {},
   "outputs": [
    {
     "name": "stdout",
     "output_type": "stream",
     "text": [
      "The apparent magnitude of Vega is 0.008806100157559782\n",
      "The apparent magnitude of Deneb is 1.1408718414208163\n",
      "The apparent magnitude of Rigel is -0.7651332601459107\n",
      "The apparent magnitude of Sirius is -1.471980365650845\n",
      "The apparent magnitude of Arcturus is -0.04230804742336253\n",
      "-0.7651332601459107\n",
      "Tadaaa\n"
     ]
    }
   ],
   "source": [
    "import math\n",
    "stars = [\"Vega\",\"Deneb\",\"Rigel\",\"Sirius\",\"Arcturus\"]\n",
    "absmags = [.582,-8.38,-7.84,1.42,-.30]\n",
    "distances = [7.68,802,260,2.64,11.26]\n",
    "appmags = [None]*5\n",
    "for i in range(len(stars)):\n",
    "    appmags[i] = absmags[i]+5*(math.log10(distances[i]) - 1)\n",
    "    print(\"The apparent magnitude of\",stars[i],\"is\",appmags[i])\n",
    "VegaDict={\"m\":appmags[0],\"M\":absmags[0],\"d\":distances[0]}\n",
    "stardict={}\n",
    "for i in range(len(stars)):\n",
    "    stardict[stars[i]] = {\"m\":appmags[i],\"M\":absmags[i],\"d\":distances[i]}\n",
    "    \n",
    "print(stardict['Rigel'][\"m\"])\n",
    "print(\"Tadaaa\")"
   ]
  },
  {
   "cell_type": "code",
   "execution_count": null,
   "id": "55686822",
   "metadata": {},
   "outputs": [],
   "source": []
  }
 ],
 "metadata": {
  "kernelspec": {
   "display_name": "Python 3 (ipykernel)",
   "language": "python",
   "name": "python3"
  },
  "language_info": {
   "codemirror_mode": {
    "name": "ipython",
    "version": 3
   },
   "file_extension": ".py",
   "mimetype": "text/x-python",
   "name": "python",
   "nbconvert_exporter": "python",
   "pygments_lexer": "ipython3",
   "version": "3.11.5"
  }
 },
 "nbformat": 4,
 "nbformat_minor": 5
}
